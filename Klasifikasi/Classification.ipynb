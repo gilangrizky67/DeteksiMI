{
  "nbformat": 4,
  "nbformat_minor": 0,
  "metadata": {
    "colab": {
      "provenance": []
    },
    "kernelspec": {
      "name": "python3",
      "display_name": "Python 3"
    },
    "language_info": {
      "name": "python"
    }
  },
  "cells": [
    {
      "cell_type": "code",
      "execution_count": null,
      "metadata": {
        "id": "4Bgl2z5JCfpT"
      },
      "outputs": [],
      "source": [
        "import librosa\n",
        "import librosa.display\n",
        "import IPython.display as ipd\n",
        "import numpy as np\n",
        "from google.colab import drive\n",
        "import os\n",
        "import pandas as pd\n",
        "import pywt\n",
        "import csv\n",
        "import os\n",
        "from glob import glob\n",
        "# import noisereduce as nr\n",
        "import shutil\n",
        "from scipy.io import wavfile\n",
        "import matplotlib\n",
        "import matplotlib.pyplot as plt\n",
        "import plotly.express as px\n",
        "from sklearn.linear_model import LogisticRegression\n",
        "from sklearn.utils import resample\n",
        "from sklearn.model_selection import train_test_split, GridSearchCV, cross_val_score, KFold\n",
        "from sklearn.metrics import confusion_matrix, classification_report, accuracy_score, plot_confusion_matrix, recall_score,make_scorer\n",
        "from sklearn.tree import DecisionTreeClassifier\n",
        "from sklearn.svm import SVC\n",
        "from sklearn.ensemble import BaggingClassifier, StackingClassifier, AdaBoostClassifier\n",
        "# from sklearn.externals import joblib\n",
        "from sklearn import preprocessing\n",
        "import pickle\n",
        "import matplotlib.pyplot as plt\n",
        "import seaborn as sns\n",
        "from collections import Counter\n",
        "from sklearn import metrics"
      ]
    },
    {
      "cell_type": "code",
      "source": [
        "drive.mount('/content/drive')\n",
        "directory = \"/content\"\n",
        "base_path = \"/content/drive/MyDrive/Skripsi\"\n",
        "MI_path = f'{base_path}{os.sep}MI/'\n",
        "audio_files_MI = glob(MI_path  + '*.wav')\n",
        "Preprocess_MI = f'{base_path}{os.sep}Preprocess_MI/'\n",
        "normal_path = f'{base_path}{os.sep}Normal/'\n",
        "audio_files_normal = glob(normal_path  + '*.wav')\n",
        "Preprocess_normal = f'{base_path}{os.sep}Preprocess_Normal/'\n",
        "fitur_path = f'{base_path}{os.sep}fitur/'"
      ],
      "metadata": {
        "colab": {
          "base_uri": "https://localhost:8080/"
        },
        "id": "QgB6nsKhDK7i",
        "outputId": "7489bec2-d018-40ea-9116-b528cc5620df"
      },
      "execution_count": null,
      "outputs": [
        {
          "output_type": "stream",
          "name": "stdout",
          "text": [
            "Mounted at /content/drive\n"
          ]
        }
      ]
    },
    {
      "cell_type": "code",
      "source": [
        "df_combine = pd.read_excel(fitur_path +'df_combined.xlsx')\n",
        "df_combine.drop('Unnamed: 0',inplace=True, axis =1)\n",
        "df_combine"
      ],
      "metadata": {
        "colab": {
          "base_uri": "https://localhost:8080/",
          "height": 678
        },
        "id": "4mwmvBwPDcJQ",
        "outputId": "fc664c3f-2ccf-4dbd-d2ee-3edd7223e8a7"
      },
      "execution_count": null,
      "outputs": [
        {
          "output_type": "execute_result",
          "data": {
            "text/plain": [
              "     MFCC Means    MFCC std    MFCC max     MFCC min    Entropy  \\\n",
              "0    -42.489068  238.983734  190.520660 -1120.055054  13.400216   \n",
              "1    -34.174446  165.524597  153.348816  -762.436340  13.400979   \n",
              "2    -36.680137  201.698227  212.238052  -938.331787  13.400109   \n",
              "3    -36.746502  183.466980  165.402634  -850.696167  13.400141   \n",
              "4    -42.229770  227.120224  233.071777 -1062.309082  13.400175   \n",
              "..          ...         ...         ...          ...        ...   \n",
              "555  -43.221928  226.843018  203.569550 -1052.359009  13.399793   \n",
              "556  -39.745922  209.543106  203.362915  -977.815063  13.400005   \n",
              "557  -41.167892  227.668243  205.410080 -1074.227661  13.400058   \n",
              "558  -36.364266  208.257187  148.874359  -972.107361  13.400248   \n",
              "559  -39.521686  222.112106  181.410645 -1054.981079  13.399848   \n",
              "\n",
              "     Wavelet Means  Wavelet std  Wavelet max  Wavelet min  Med_mfcc  ...  \\\n",
              "0     3.603139e-08     0.000138     0.001983    -0.001267  2.904536  ...   \n",
              "1    -9.297025e-10     0.003196     0.044476    -0.042840  0.000000  ...   \n",
              "2    -7.685623e-08     0.000306     0.011637    -0.010879  1.494527  ...   \n",
              "3    -1.463084e-08     0.001234     0.014985    -0.025353  0.049883  ...   \n",
              "4     8.514613e-08     0.000189     0.004734    -0.007856  1.968573  ...   \n",
              "..             ...          ...          ...          ...       ...  ...   \n",
              "555   1.815064e-08     0.000311     0.010918    -0.010430  0.549520  ...   \n",
              "556  -3.135907e-08     0.000328     0.016531    -0.012258  1.378954  ...   \n",
              "557   7.227910e-08     0.000204     0.004129    -0.006110  2.411068  ...   \n",
              "558  -1.115729e-08     0.000858     0.007549    -0.008341  3.434311  ...   \n",
              "559   1.078366e-08     0.000317     0.010437    -0.009644  2.637816  ...   \n",
              "\n",
              "      Med_wavelet   Var_wavelet  Skew_wavelet  Q1_wavelet    Q3_wavelet  \\\n",
              "0   -3.346840e-09  1.912756e-08      0.269838   -0.000004  3.538103e-06   \n",
              "1    1.681105e-22  1.021748e-05      0.171079   -0.000001  1.068919e-06   \n",
              "2   -1.177336e-08  9.347330e-08      1.615816   -0.000007  6.803801e-06   \n",
              "3    3.467036e-09  1.522966e-06     -1.489506   -0.000004  4.427025e-06   \n",
              "4   -3.901422e-09  3.557479e-08     -0.544867   -0.000004  3.435842e-06   \n",
              "..            ...           ...           ...         ...           ...   \n",
              "555 -1.054110e-08  9.666980e-08      1.597842   -0.000001  9.355650e-07   \n",
              "556  6.903586e-09  1.075760e-07      2.933090   -0.000005  4.712389e-06   \n",
              "557 -2.821842e-08  4.169307e-08     -0.223834   -0.000007  5.739436e-06   \n",
              "558  1.533144e-08  7.369021e-07     -0.092440   -0.000007  8.130915e-06   \n",
              "559  2.572533e-08  1.003176e-07     -0.230460   -0.000011  1.136077e-05   \n",
              "\n",
              "     IQR_wavelet  MinMax_wavelet  Kurt_wavelet  Annotation   Label  \n",
              "0       0.000007        0.003249     19.177630           1      MI  \n",
              "1       0.000002        0.087317     71.359029           1      MI  \n",
              "2       0.000014        0.022516    419.455408           1      MI  \n",
              "3       0.000009        0.040337     88.837650           1      MI  \n",
              "4       0.000007        0.012590     83.406967           1      MI  \n",
              "..           ...             ...           ...         ...     ...  \n",
              "555     0.000002        0.021348    117.568733           0  Normal  \n",
              "556     0.000009        0.028789    509.492473           0  Normal  \n",
              "557     0.000012        0.010239     58.348043           0  Normal  \n",
              "558     0.000015        0.015890     21.022171           0  Normal  \n",
              "559     0.000022        0.020081     77.226926           0  Normal  \n",
              "\n",
              "[560 rows x 27 columns]"
            ],
            "text/html": [
              "\n",
              "  <div id=\"df-ef49d1f2-551a-42af-9d42-cb0ba1768006\">\n",
              "    <div class=\"colab-df-container\">\n",
              "      <div>\n",
              "<style scoped>\n",
              "    .dataframe tbody tr th:only-of-type {\n",
              "        vertical-align: middle;\n",
              "    }\n",
              "\n",
              "    .dataframe tbody tr th {\n",
              "        vertical-align: top;\n",
              "    }\n",
              "\n",
              "    .dataframe thead th {\n",
              "        text-align: right;\n",
              "    }\n",
              "</style>\n",
              "<table border=\"1\" class=\"dataframe\">\n",
              "  <thead>\n",
              "    <tr style=\"text-align: right;\">\n",
              "      <th></th>\n",
              "      <th>MFCC Means</th>\n",
              "      <th>MFCC std</th>\n",
              "      <th>MFCC max</th>\n",
              "      <th>MFCC min</th>\n",
              "      <th>Entropy</th>\n",
              "      <th>Wavelet Means</th>\n",
              "      <th>Wavelet std</th>\n",
              "      <th>Wavelet max</th>\n",
              "      <th>Wavelet min</th>\n",
              "      <th>Med_mfcc</th>\n",
              "      <th>...</th>\n",
              "      <th>Med_wavelet</th>\n",
              "      <th>Var_wavelet</th>\n",
              "      <th>Skew_wavelet</th>\n",
              "      <th>Q1_wavelet</th>\n",
              "      <th>Q3_wavelet</th>\n",
              "      <th>IQR_wavelet</th>\n",
              "      <th>MinMax_wavelet</th>\n",
              "      <th>Kurt_wavelet</th>\n",
              "      <th>Annotation</th>\n",
              "      <th>Label</th>\n",
              "    </tr>\n",
              "  </thead>\n",
              "  <tbody>\n",
              "    <tr>\n",
              "      <th>0</th>\n",
              "      <td>-42.489068</td>\n",
              "      <td>238.983734</td>\n",
              "      <td>190.520660</td>\n",
              "      <td>-1120.055054</td>\n",
              "      <td>13.400216</td>\n",
              "      <td>3.603139e-08</td>\n",
              "      <td>0.000138</td>\n",
              "      <td>0.001983</td>\n",
              "      <td>-0.001267</td>\n",
              "      <td>2.904536</td>\n",
              "      <td>...</td>\n",
              "      <td>-3.346840e-09</td>\n",
              "      <td>1.912756e-08</td>\n",
              "      <td>0.269838</td>\n",
              "      <td>-0.000004</td>\n",
              "      <td>3.538103e-06</td>\n",
              "      <td>0.000007</td>\n",
              "      <td>0.003249</td>\n",
              "      <td>19.177630</td>\n",
              "      <td>1</td>\n",
              "      <td>MI</td>\n",
              "    </tr>\n",
              "    <tr>\n",
              "      <th>1</th>\n",
              "      <td>-34.174446</td>\n",
              "      <td>165.524597</td>\n",
              "      <td>153.348816</td>\n",
              "      <td>-762.436340</td>\n",
              "      <td>13.400979</td>\n",
              "      <td>-9.297025e-10</td>\n",
              "      <td>0.003196</td>\n",
              "      <td>0.044476</td>\n",
              "      <td>-0.042840</td>\n",
              "      <td>0.000000</td>\n",
              "      <td>...</td>\n",
              "      <td>1.681105e-22</td>\n",
              "      <td>1.021748e-05</td>\n",
              "      <td>0.171079</td>\n",
              "      <td>-0.000001</td>\n",
              "      <td>1.068919e-06</td>\n",
              "      <td>0.000002</td>\n",
              "      <td>0.087317</td>\n",
              "      <td>71.359029</td>\n",
              "      <td>1</td>\n",
              "      <td>MI</td>\n",
              "    </tr>\n",
              "    <tr>\n",
              "      <th>2</th>\n",
              "      <td>-36.680137</td>\n",
              "      <td>201.698227</td>\n",
              "      <td>212.238052</td>\n",
              "      <td>-938.331787</td>\n",
              "      <td>13.400109</td>\n",
              "      <td>-7.685623e-08</td>\n",
              "      <td>0.000306</td>\n",
              "      <td>0.011637</td>\n",
              "      <td>-0.010879</td>\n",
              "      <td>1.494527</td>\n",
              "      <td>...</td>\n",
              "      <td>-1.177336e-08</td>\n",
              "      <td>9.347330e-08</td>\n",
              "      <td>1.615816</td>\n",
              "      <td>-0.000007</td>\n",
              "      <td>6.803801e-06</td>\n",
              "      <td>0.000014</td>\n",
              "      <td>0.022516</td>\n",
              "      <td>419.455408</td>\n",
              "      <td>1</td>\n",
              "      <td>MI</td>\n",
              "    </tr>\n",
              "    <tr>\n",
              "      <th>3</th>\n",
              "      <td>-36.746502</td>\n",
              "      <td>183.466980</td>\n",
              "      <td>165.402634</td>\n",
              "      <td>-850.696167</td>\n",
              "      <td>13.400141</td>\n",
              "      <td>-1.463084e-08</td>\n",
              "      <td>0.001234</td>\n",
              "      <td>0.014985</td>\n",
              "      <td>-0.025353</td>\n",
              "      <td>0.049883</td>\n",
              "      <td>...</td>\n",
              "      <td>3.467036e-09</td>\n",
              "      <td>1.522966e-06</td>\n",
              "      <td>-1.489506</td>\n",
              "      <td>-0.000004</td>\n",
              "      <td>4.427025e-06</td>\n",
              "      <td>0.000009</td>\n",
              "      <td>0.040337</td>\n",
              "      <td>88.837650</td>\n",
              "      <td>1</td>\n",
              "      <td>MI</td>\n",
              "    </tr>\n",
              "    <tr>\n",
              "      <th>4</th>\n",
              "      <td>-42.229770</td>\n",
              "      <td>227.120224</td>\n",
              "      <td>233.071777</td>\n",
              "      <td>-1062.309082</td>\n",
              "      <td>13.400175</td>\n",
              "      <td>8.514613e-08</td>\n",
              "      <td>0.000189</td>\n",
              "      <td>0.004734</td>\n",
              "      <td>-0.007856</td>\n",
              "      <td>1.968573</td>\n",
              "      <td>...</td>\n",
              "      <td>-3.901422e-09</td>\n",
              "      <td>3.557479e-08</td>\n",
              "      <td>-0.544867</td>\n",
              "      <td>-0.000004</td>\n",
              "      <td>3.435842e-06</td>\n",
              "      <td>0.000007</td>\n",
              "      <td>0.012590</td>\n",
              "      <td>83.406967</td>\n",
              "      <td>1</td>\n",
              "      <td>MI</td>\n",
              "    </tr>\n",
              "    <tr>\n",
              "      <th>...</th>\n",
              "      <td>...</td>\n",
              "      <td>...</td>\n",
              "      <td>...</td>\n",
              "      <td>...</td>\n",
              "      <td>...</td>\n",
              "      <td>...</td>\n",
              "      <td>...</td>\n",
              "      <td>...</td>\n",
              "      <td>...</td>\n",
              "      <td>...</td>\n",
              "      <td>...</td>\n",
              "      <td>...</td>\n",
              "      <td>...</td>\n",
              "      <td>...</td>\n",
              "      <td>...</td>\n",
              "      <td>...</td>\n",
              "      <td>...</td>\n",
              "      <td>...</td>\n",
              "      <td>...</td>\n",
              "      <td>...</td>\n",
              "      <td>...</td>\n",
              "    </tr>\n",
              "    <tr>\n",
              "      <th>555</th>\n",
              "      <td>-43.221928</td>\n",
              "      <td>226.843018</td>\n",
              "      <td>203.569550</td>\n",
              "      <td>-1052.359009</td>\n",
              "      <td>13.399793</td>\n",
              "      <td>1.815064e-08</td>\n",
              "      <td>0.000311</td>\n",
              "      <td>0.010918</td>\n",
              "      <td>-0.010430</td>\n",
              "      <td>0.549520</td>\n",
              "      <td>...</td>\n",
              "      <td>-1.054110e-08</td>\n",
              "      <td>9.666980e-08</td>\n",
              "      <td>1.597842</td>\n",
              "      <td>-0.000001</td>\n",
              "      <td>9.355650e-07</td>\n",
              "      <td>0.000002</td>\n",
              "      <td>0.021348</td>\n",
              "      <td>117.568733</td>\n",
              "      <td>0</td>\n",
              "      <td>Normal</td>\n",
              "    </tr>\n",
              "    <tr>\n",
              "      <th>556</th>\n",
              "      <td>-39.745922</td>\n",
              "      <td>209.543106</td>\n",
              "      <td>203.362915</td>\n",
              "      <td>-977.815063</td>\n",
              "      <td>13.400005</td>\n",
              "      <td>-3.135907e-08</td>\n",
              "      <td>0.000328</td>\n",
              "      <td>0.016531</td>\n",
              "      <td>-0.012258</td>\n",
              "      <td>1.378954</td>\n",
              "      <td>...</td>\n",
              "      <td>6.903586e-09</td>\n",
              "      <td>1.075760e-07</td>\n",
              "      <td>2.933090</td>\n",
              "      <td>-0.000005</td>\n",
              "      <td>4.712389e-06</td>\n",
              "      <td>0.000009</td>\n",
              "      <td>0.028789</td>\n",
              "      <td>509.492473</td>\n",
              "      <td>0</td>\n",
              "      <td>Normal</td>\n",
              "    </tr>\n",
              "    <tr>\n",
              "      <th>557</th>\n",
              "      <td>-41.167892</td>\n",
              "      <td>227.668243</td>\n",
              "      <td>205.410080</td>\n",
              "      <td>-1074.227661</td>\n",
              "      <td>13.400058</td>\n",
              "      <td>7.227910e-08</td>\n",
              "      <td>0.000204</td>\n",
              "      <td>0.004129</td>\n",
              "      <td>-0.006110</td>\n",
              "      <td>2.411068</td>\n",
              "      <td>...</td>\n",
              "      <td>-2.821842e-08</td>\n",
              "      <td>4.169307e-08</td>\n",
              "      <td>-0.223834</td>\n",
              "      <td>-0.000007</td>\n",
              "      <td>5.739436e-06</td>\n",
              "      <td>0.000012</td>\n",
              "      <td>0.010239</td>\n",
              "      <td>58.348043</td>\n",
              "      <td>0</td>\n",
              "      <td>Normal</td>\n",
              "    </tr>\n",
              "    <tr>\n",
              "      <th>558</th>\n",
              "      <td>-36.364266</td>\n",
              "      <td>208.257187</td>\n",
              "      <td>148.874359</td>\n",
              "      <td>-972.107361</td>\n",
              "      <td>13.400248</td>\n",
              "      <td>-1.115729e-08</td>\n",
              "      <td>0.000858</td>\n",
              "      <td>0.007549</td>\n",
              "      <td>-0.008341</td>\n",
              "      <td>3.434311</td>\n",
              "      <td>...</td>\n",
              "      <td>1.533144e-08</td>\n",
              "      <td>7.369021e-07</td>\n",
              "      <td>-0.092440</td>\n",
              "      <td>-0.000007</td>\n",
              "      <td>8.130915e-06</td>\n",
              "      <td>0.000015</td>\n",
              "      <td>0.015890</td>\n",
              "      <td>21.022171</td>\n",
              "      <td>0</td>\n",
              "      <td>Normal</td>\n",
              "    </tr>\n",
              "    <tr>\n",
              "      <th>559</th>\n",
              "      <td>-39.521686</td>\n",
              "      <td>222.112106</td>\n",
              "      <td>181.410645</td>\n",
              "      <td>-1054.981079</td>\n",
              "      <td>13.399848</td>\n",
              "      <td>1.078366e-08</td>\n",
              "      <td>0.000317</td>\n",
              "      <td>0.010437</td>\n",
              "      <td>-0.009644</td>\n",
              "      <td>2.637816</td>\n",
              "      <td>...</td>\n",
              "      <td>2.572533e-08</td>\n",
              "      <td>1.003176e-07</td>\n",
              "      <td>-0.230460</td>\n",
              "      <td>-0.000011</td>\n",
              "      <td>1.136077e-05</td>\n",
              "      <td>0.000022</td>\n",
              "      <td>0.020081</td>\n",
              "      <td>77.226926</td>\n",
              "      <td>0</td>\n",
              "      <td>Normal</td>\n",
              "    </tr>\n",
              "  </tbody>\n",
              "</table>\n",
              "<p>560 rows × 27 columns</p>\n",
              "</div>\n",
              "      <button class=\"colab-df-convert\" onclick=\"convertToInteractive('df-ef49d1f2-551a-42af-9d42-cb0ba1768006')\"\n",
              "              title=\"Convert this dataframe to an interactive table.\"\n",
              "              style=\"display:none;\">\n",
              "        \n",
              "  <svg xmlns=\"http://www.w3.org/2000/svg\" height=\"24px\"viewBox=\"0 0 24 24\"\n",
              "       width=\"24px\">\n",
              "    <path d=\"M0 0h24v24H0V0z\" fill=\"none\"/>\n",
              "    <path d=\"M18.56 5.44l.94 2.06.94-2.06 2.06-.94-2.06-.94-.94-2.06-.94 2.06-2.06.94zm-11 1L8.5 8.5l.94-2.06 2.06-.94-2.06-.94L8.5 2.5l-.94 2.06-2.06.94zm10 10l.94 2.06.94-2.06 2.06-.94-2.06-.94-.94-2.06-.94 2.06-2.06.94z\"/><path d=\"M17.41 7.96l-1.37-1.37c-.4-.4-.92-.59-1.43-.59-.52 0-1.04.2-1.43.59L10.3 9.45l-7.72 7.72c-.78.78-.78 2.05 0 2.83L4 21.41c.39.39.9.59 1.41.59.51 0 1.02-.2 1.41-.59l7.78-7.78 2.81-2.81c.8-.78.8-2.07 0-2.86zM5.41 20L4 18.59l7.72-7.72 1.47 1.35L5.41 20z\"/>\n",
              "  </svg>\n",
              "      </button>\n",
              "      \n",
              "  <style>\n",
              "    .colab-df-container {\n",
              "      display:flex;\n",
              "      flex-wrap:wrap;\n",
              "      gap: 12px;\n",
              "    }\n",
              "\n",
              "    .colab-df-convert {\n",
              "      background-color: #E8F0FE;\n",
              "      border: none;\n",
              "      border-radius: 50%;\n",
              "      cursor: pointer;\n",
              "      display: none;\n",
              "      fill: #1967D2;\n",
              "      height: 32px;\n",
              "      padding: 0 0 0 0;\n",
              "      width: 32px;\n",
              "    }\n",
              "\n",
              "    .colab-df-convert:hover {\n",
              "      background-color: #E2EBFA;\n",
              "      box-shadow: 0px 1px 2px rgba(60, 64, 67, 0.3), 0px 1px 3px 1px rgba(60, 64, 67, 0.15);\n",
              "      fill: #174EA6;\n",
              "    }\n",
              "\n",
              "    [theme=dark] .colab-df-convert {\n",
              "      background-color: #3B4455;\n",
              "      fill: #D2E3FC;\n",
              "    }\n",
              "\n",
              "    [theme=dark] .colab-df-convert:hover {\n",
              "      background-color: #434B5C;\n",
              "      box-shadow: 0px 1px 3px 1px rgba(0, 0, 0, 0.15);\n",
              "      filter: drop-shadow(0px 1px 2px rgba(0, 0, 0, 0.3));\n",
              "      fill: #FFFFFF;\n",
              "    }\n",
              "  </style>\n",
              "\n",
              "      <script>\n",
              "        const buttonEl =\n",
              "          document.querySelector('#df-ef49d1f2-551a-42af-9d42-cb0ba1768006 button.colab-df-convert');\n",
              "        buttonEl.style.display =\n",
              "          google.colab.kernel.accessAllowed ? 'block' : 'none';\n",
              "\n",
              "        async function convertToInteractive(key) {\n",
              "          const element = document.querySelector('#df-ef49d1f2-551a-42af-9d42-cb0ba1768006');\n",
              "          const dataTable =\n",
              "            await google.colab.kernel.invokeFunction('convertToInteractive',\n",
              "                                                     [key], {});\n",
              "          if (!dataTable) return;\n",
              "\n",
              "          const docLinkHtml = 'Like what you see? Visit the ' +\n",
              "            '<a target=\"_blank\" href=https://colab.research.google.com/notebooks/data_table.ipynb>data table notebook</a>'\n",
              "            + ' to learn more about interactive tables.';\n",
              "          element.innerHTML = '';\n",
              "          dataTable['output_type'] = 'display_data';\n",
              "          await google.colab.output.renderOutput(dataTable, element);\n",
              "          const docLink = document.createElement('div');\n",
              "          docLink.innerHTML = docLinkHtml;\n",
              "          element.appendChild(docLink);\n",
              "        }\n",
              "      </script>\n",
              "    </div>\n",
              "  </div>\n",
              "  "
            ]
          },
          "metadata": {},
          "execution_count": 3
        }
      ]
    },
    {
      "cell_type": "code",
      "source": [
        "dfpcarank = pd.read_excel(fitur_path +'FeatureRank_By_PCA.xlsx')\n",
        "dfpcarank.drop('Unnamed: 0',inplace=True, axis =1)\n",
        "dfpcarank"
      ],
      "metadata": {
        "colab": {
          "base_uri": "https://localhost:8080/",
          "height": 864
        },
        "id": "TMRjJfheEE6F",
        "outputId": "14e632fd-5724-4740-955e-e54f8397fb5f"
      },
      "execution_count": null,
      "outputs": [
        {
          "output_type": "execute_result",
          "data": {
            "text/plain": [
              "         PC1           Label\n",
              "0   0.322524        MFCC min\n",
              "1   0.288815     Wavelet std\n",
              "2   0.280969     Wavelet max\n",
              "3   0.278683  MinMax_wavelet\n",
              "4   0.248549      MFCC Means\n",
              "5   0.233980     Var_wavelet\n",
              "6   0.153640    Kurt_wavelet\n",
              "7   0.129482       Kurt_mfcc\n",
              "8   0.111450         Q1_mfcc\n",
              "9   0.022729   Wavelet Means\n",
              "10  0.020908      Annotation\n",
              "11  0.012662      Q1_wavelet\n",
              "12  0.003485       Skew_mfcc\n",
              "13 -0.000813     Med_wavelet\n",
              "14 -0.005354    Skew_wavelet\n",
              "15 -0.012967     IQR_wavelet\n",
              "16 -0.013218      Q3_wavelet\n",
              "17 -0.015194         Entropy\n",
              "18 -0.057567        MFCC max\n",
              "19 -0.131169        Med_mfcc\n",
              "20 -0.217114         Q3_mfcc\n",
              "21 -0.239952        IQR_mfcc\n",
              "22 -0.268688     Wavelet min\n",
              "23 -0.293803     MinMax_mfcc\n",
              "24 -0.315294        Var_mfcc\n",
              "25 -0.318988        MFCC std"
            ],
            "text/html": [
              "\n",
              "  <div id=\"df-c99c2d0a-98c3-4d09-bc79-d9a7a1e42f50\">\n",
              "    <div class=\"colab-df-container\">\n",
              "      <div>\n",
              "<style scoped>\n",
              "    .dataframe tbody tr th:only-of-type {\n",
              "        vertical-align: middle;\n",
              "    }\n",
              "\n",
              "    .dataframe tbody tr th {\n",
              "        vertical-align: top;\n",
              "    }\n",
              "\n",
              "    .dataframe thead th {\n",
              "        text-align: right;\n",
              "    }\n",
              "</style>\n",
              "<table border=\"1\" class=\"dataframe\">\n",
              "  <thead>\n",
              "    <tr style=\"text-align: right;\">\n",
              "      <th></th>\n",
              "      <th>PC1</th>\n",
              "      <th>Label</th>\n",
              "    </tr>\n",
              "  </thead>\n",
              "  <tbody>\n",
              "    <tr>\n",
              "      <th>0</th>\n",
              "      <td>0.322524</td>\n",
              "      <td>MFCC min</td>\n",
              "    </tr>\n",
              "    <tr>\n",
              "      <th>1</th>\n",
              "      <td>0.288815</td>\n",
              "      <td>Wavelet std</td>\n",
              "    </tr>\n",
              "    <tr>\n",
              "      <th>2</th>\n",
              "      <td>0.280969</td>\n",
              "      <td>Wavelet max</td>\n",
              "    </tr>\n",
              "    <tr>\n",
              "      <th>3</th>\n",
              "      <td>0.278683</td>\n",
              "      <td>MinMax_wavelet</td>\n",
              "    </tr>\n",
              "    <tr>\n",
              "      <th>4</th>\n",
              "      <td>0.248549</td>\n",
              "      <td>MFCC Means</td>\n",
              "    </tr>\n",
              "    <tr>\n",
              "      <th>5</th>\n",
              "      <td>0.233980</td>\n",
              "      <td>Var_wavelet</td>\n",
              "    </tr>\n",
              "    <tr>\n",
              "      <th>6</th>\n",
              "      <td>0.153640</td>\n",
              "      <td>Kurt_wavelet</td>\n",
              "    </tr>\n",
              "    <tr>\n",
              "      <th>7</th>\n",
              "      <td>0.129482</td>\n",
              "      <td>Kurt_mfcc</td>\n",
              "    </tr>\n",
              "    <tr>\n",
              "      <th>8</th>\n",
              "      <td>0.111450</td>\n",
              "      <td>Q1_mfcc</td>\n",
              "    </tr>\n",
              "    <tr>\n",
              "      <th>9</th>\n",
              "      <td>0.022729</td>\n",
              "      <td>Wavelet Means</td>\n",
              "    </tr>\n",
              "    <tr>\n",
              "      <th>10</th>\n",
              "      <td>0.020908</td>\n",
              "      <td>Annotation</td>\n",
              "    </tr>\n",
              "    <tr>\n",
              "      <th>11</th>\n",
              "      <td>0.012662</td>\n",
              "      <td>Q1_wavelet</td>\n",
              "    </tr>\n",
              "    <tr>\n",
              "      <th>12</th>\n",
              "      <td>0.003485</td>\n",
              "      <td>Skew_mfcc</td>\n",
              "    </tr>\n",
              "    <tr>\n",
              "      <th>13</th>\n",
              "      <td>-0.000813</td>\n",
              "      <td>Med_wavelet</td>\n",
              "    </tr>\n",
              "    <tr>\n",
              "      <th>14</th>\n",
              "      <td>-0.005354</td>\n",
              "      <td>Skew_wavelet</td>\n",
              "    </tr>\n",
              "    <tr>\n",
              "      <th>15</th>\n",
              "      <td>-0.012967</td>\n",
              "      <td>IQR_wavelet</td>\n",
              "    </tr>\n",
              "    <tr>\n",
              "      <th>16</th>\n",
              "      <td>-0.013218</td>\n",
              "      <td>Q3_wavelet</td>\n",
              "    </tr>\n",
              "    <tr>\n",
              "      <th>17</th>\n",
              "      <td>-0.015194</td>\n",
              "      <td>Entropy</td>\n",
              "    </tr>\n",
              "    <tr>\n",
              "      <th>18</th>\n",
              "      <td>-0.057567</td>\n",
              "      <td>MFCC max</td>\n",
              "    </tr>\n",
              "    <tr>\n",
              "      <th>19</th>\n",
              "      <td>-0.131169</td>\n",
              "      <td>Med_mfcc</td>\n",
              "    </tr>\n",
              "    <tr>\n",
              "      <th>20</th>\n",
              "      <td>-0.217114</td>\n",
              "      <td>Q3_mfcc</td>\n",
              "    </tr>\n",
              "    <tr>\n",
              "      <th>21</th>\n",
              "      <td>-0.239952</td>\n",
              "      <td>IQR_mfcc</td>\n",
              "    </tr>\n",
              "    <tr>\n",
              "      <th>22</th>\n",
              "      <td>-0.268688</td>\n",
              "      <td>Wavelet min</td>\n",
              "    </tr>\n",
              "    <tr>\n",
              "      <th>23</th>\n",
              "      <td>-0.293803</td>\n",
              "      <td>MinMax_mfcc</td>\n",
              "    </tr>\n",
              "    <tr>\n",
              "      <th>24</th>\n",
              "      <td>-0.315294</td>\n",
              "      <td>Var_mfcc</td>\n",
              "    </tr>\n",
              "    <tr>\n",
              "      <th>25</th>\n",
              "      <td>-0.318988</td>\n",
              "      <td>MFCC std</td>\n",
              "    </tr>\n",
              "  </tbody>\n",
              "</table>\n",
              "</div>\n",
              "      <button class=\"colab-df-convert\" onclick=\"convertToInteractive('df-c99c2d0a-98c3-4d09-bc79-d9a7a1e42f50')\"\n",
              "              title=\"Convert this dataframe to an interactive table.\"\n",
              "              style=\"display:none;\">\n",
              "        \n",
              "  <svg xmlns=\"http://www.w3.org/2000/svg\" height=\"24px\"viewBox=\"0 0 24 24\"\n",
              "       width=\"24px\">\n",
              "    <path d=\"M0 0h24v24H0V0z\" fill=\"none\"/>\n",
              "    <path d=\"M18.56 5.44l.94 2.06.94-2.06 2.06-.94-2.06-.94-.94-2.06-.94 2.06-2.06.94zm-11 1L8.5 8.5l.94-2.06 2.06-.94-2.06-.94L8.5 2.5l-.94 2.06-2.06.94zm10 10l.94 2.06.94-2.06 2.06-.94-2.06-.94-.94-2.06-.94 2.06-2.06.94z\"/><path d=\"M17.41 7.96l-1.37-1.37c-.4-.4-.92-.59-1.43-.59-.52 0-1.04.2-1.43.59L10.3 9.45l-7.72 7.72c-.78.78-.78 2.05 0 2.83L4 21.41c.39.39.9.59 1.41.59.51 0 1.02-.2 1.41-.59l7.78-7.78 2.81-2.81c.8-.78.8-2.07 0-2.86zM5.41 20L4 18.59l7.72-7.72 1.47 1.35L5.41 20z\"/>\n",
              "  </svg>\n",
              "      </button>\n",
              "      \n",
              "  <style>\n",
              "    .colab-df-container {\n",
              "      display:flex;\n",
              "      flex-wrap:wrap;\n",
              "      gap: 12px;\n",
              "    }\n",
              "\n",
              "    .colab-df-convert {\n",
              "      background-color: #E8F0FE;\n",
              "      border: none;\n",
              "      border-radius: 50%;\n",
              "      cursor: pointer;\n",
              "      display: none;\n",
              "      fill: #1967D2;\n",
              "      height: 32px;\n",
              "      padding: 0 0 0 0;\n",
              "      width: 32px;\n",
              "    }\n",
              "\n",
              "    .colab-df-convert:hover {\n",
              "      background-color: #E2EBFA;\n",
              "      box-shadow: 0px 1px 2px rgba(60, 64, 67, 0.3), 0px 1px 3px 1px rgba(60, 64, 67, 0.15);\n",
              "      fill: #174EA6;\n",
              "    }\n",
              "\n",
              "    [theme=dark] .colab-df-convert {\n",
              "      background-color: #3B4455;\n",
              "      fill: #D2E3FC;\n",
              "    }\n",
              "\n",
              "    [theme=dark] .colab-df-convert:hover {\n",
              "      background-color: #434B5C;\n",
              "      box-shadow: 0px 1px 3px 1px rgba(0, 0, 0, 0.15);\n",
              "      filter: drop-shadow(0px 1px 2px rgba(0, 0, 0, 0.3));\n",
              "      fill: #FFFFFF;\n",
              "    }\n",
              "  </style>\n",
              "\n",
              "      <script>\n",
              "        const buttonEl =\n",
              "          document.querySelector('#df-c99c2d0a-98c3-4d09-bc79-d9a7a1e42f50 button.colab-df-convert');\n",
              "        buttonEl.style.display =\n",
              "          google.colab.kernel.accessAllowed ? 'block' : 'none';\n",
              "\n",
              "        async function convertToInteractive(key) {\n",
              "          const element = document.querySelector('#df-c99c2d0a-98c3-4d09-bc79-d9a7a1e42f50');\n",
              "          const dataTable =\n",
              "            await google.colab.kernel.invokeFunction('convertToInteractive',\n",
              "                                                     [key], {});\n",
              "          if (!dataTable) return;\n",
              "\n",
              "          const docLinkHtml = 'Like what you see? Visit the ' +\n",
              "            '<a target=\"_blank\" href=https://colab.research.google.com/notebooks/data_table.ipynb>data table notebook</a>'\n",
              "            + ' to learn more about interactive tables.';\n",
              "          element.innerHTML = '';\n",
              "          dataTable['output_type'] = 'display_data';\n",
              "          await google.colab.output.renderOutput(dataTable, element);\n",
              "          const docLink = document.createElement('div');\n",
              "          docLink.innerHTML = docLinkHtml;\n",
              "          element.appendChild(docLink);\n",
              "        }\n",
              "      </script>\n",
              "    </div>\n",
              "  </div>\n",
              "  "
            ]
          },
          "metadata": {},
          "execution_count": 4
        }
      ]
    },
    {
      "cell_type": "code",
      "source": [
        "featuresPCA = ['MFCC Means', 'MFCC min', 'Wavelet Means', 'Wavelet std', 'Wavelet max','Var_wavelet','Q1_wavelet','MinMax_wavelet','Kurt_wavelet','Skew_mfcc','Q1_mfcc','Kurt_mfcc'\n",
        "             ]\n"
      ],
      "metadata": {
        "id": "A0T_LnAGEKN5"
      },
      "execution_count": null,
      "outputs": []
    },
    {
      "cell_type": "code",
      "source": [
        "features = ['MFCC Means', 'MFCC std', 'MFCC max' ,'MFCC min','Entropy', 'Wavelet Means', 'Wavelet std', 'Wavelet max','Wavelet min',\n",
        "             'Med_mfcc','Var_mfcc','Skew_mfcc','Q1_mfcc','Q3_mfcc','IQR_mfcc','MinMax_mfcc','Kurt_mfcc',\n",
        "             'Med_wavelet','Var_wavelet','Skew_wavelet','Q1_wavelet','Q3_wavelet','IQR_wavelet','MinMax_wavelet','Kurt_wavelet'\n",
        "             ]"
      ],
      "metadata": {
        "id": "71HtvyIJD7q7"
      },
      "execution_count": null,
      "outputs": []
    },
    {
      "cell_type": "code",
      "source": [
        "x_1 = df_combine[features].values\n",
        "scaler_1 =  preprocessing.StandardScaler().fit(x_1)\n",
        "X_scaled1 = scaler_1.transform(x_1)\n",
        "\n",
        "y1 = df_combine['Annotation'].values \n",
        "print(Counter(y1)) "
      ],
      "metadata": {
        "colab": {
          "base_uri": "https://localhost:8080/"
        },
        "id": "dVbYdybMER3p",
        "outputId": "4dfdf7b6-53f0-494d-a976-af9ad2ac7570"
      },
      "execution_count": null,
      "outputs": [
        {
          "output_type": "stream",
          "name": "stdout",
          "text": [
            "Counter({1: 280, 0: 280})\n"
          ]
        }
      ]
    },
    {
      "cell_type": "code",
      "source": [
        "specificity = make_scorer(recall_score, pos_label=0)\n",
        "sensitivity = make_scorer(recall_score, pos_label=1)"
      ],
      "metadata": {
        "id": "_DSsFrAWEsLW"
      },
      "execution_count": null,
      "outputs": []
    },
    {
      "cell_type": "code",
      "source": [
        "X_train1, X_test1, y_train1, y_test1 = train_test_split(X_scaled1, y1, test_size = 0.3,random_state = 10)"
      ],
      "metadata": {
        "id": "s5qkC76lEVM1"
      },
      "execution_count": null,
      "outputs": []
    },
    {
      "cell_type": "code",
      "source": [
        "bagging_1 = BaggingClassifier(base_estimator=DecisionTreeClassifier(max_depth=1, random_state=1))\n",
        "bagging1_pca = BaggingClassifier(base_estimator=DecisionTreeClassifier(max_depth=1, random_state=1))\n",
        "boosting_1 = AdaBoostClassifier(base_estimator=DecisionTreeClassifier(max_depth=1, random_state=1))\n",
        "boosting1_pca = AdaBoostClassifier(base_estimator=DecisionTreeClassifier(max_depth=1, random_state=1))"
      ],
      "metadata": {
        "id": "o5C6VM7QEf3F"
      },
      "execution_count": null,
      "outputs": []
    },
    {
      "cell_type": "code",
      "source": [
        "estimators = [\n",
        "    ('tree', DecisionTreeClassifier(max_depth=1, random_state=1)),\n",
        "    ('svm', SVC(probability=True, random_state=1)),\n",
        "    \n",
        "]\n",
        "stacking_1 = StackingClassifier(\n",
        "    estimators=estimators,   \n",
        ")\n",
        "stacking1_pca = StackingClassifier(\n",
        "    estimators=estimators,   \n",
        ")"
      ],
      "metadata": {
        "id": "rXZxDQZREiKA"
      },
      "execution_count": null,
      "outputs": []
    },
    {
      "cell_type": "markdown",
      "source": [
        "# Non Tuning"
      ],
      "metadata": {
        "id": "Y0nEiIeHmvzC"
      }
    },
    {
      "cell_type": "markdown",
      "source": [
        "## Without PCA non tuning"
      ],
      "metadata": {
        "id": "XSGaHmDiedLn"
      }
    },
    {
      "cell_type": "markdown",
      "source": [
        "### Bagging"
      ],
      "metadata": {
        "id": "ibwI4tshf57D"
      }
    },
    {
      "cell_type": "code",
      "source": [
        "bagging_accur_non_tuning_nonpca = cross_val_score(bagging_1, X_scaled1, y1, scoring=\"accuracy\", cv=5)\n",
        "bagging_sensi_non_tuning_nonpca = cross_val_score(bagging_1, X_scaled1, y1, scoring=sensitivity, cv=5)\n",
        "bagging_speci_non_tuning_nonpca = cross_val_score(bagging_1, X_scaled1, y1, scoring=specificity, cv=5)\n",
        "print(\"Specificity masing-masing = \", bagging_speci_non_tuning_nonpca)\n",
        "print(\"Sensitivity masing-masing = \", bagging_sensi_non_tuning_nonpca)\n",
        "print(\"Accuracy masing-masing = \", bagging_accur_non_tuning_nonpca)\n",
        "print(\"Rata-rata Specificity = \", bagging_speci_non_tuning_nonpca.mean())\n",
        "print(\"Rata-rata Sensitivity = \", bagging_sensi_non_tuning_nonpca.mean())\n",
        "print(\"Rata-rata Accuracy = \", bagging_accur_non_tuning_nonpca.mean())"
      ],
      "metadata": {
        "colab": {
          "base_uri": "https://localhost:8080/"
        },
        "id": "2N9rb_-jE3v1",
        "outputId": "8612964a-a11b-4ee2-984b-49183359ec05"
      },
      "execution_count": null,
      "outputs": [
        {
          "output_type": "stream",
          "name": "stdout",
          "text": [
            "Specificity masing-masing =  [0.92857143 0.96428571 0.96428571 0.98214286 0.94642857]\n",
            "Sensitivity masing-masing =  [1. 1. 1. 1. 1.]\n",
            "Accuracy masing-masing =  [0.96428571 0.98214286 0.98214286 0.99107143 0.97321429]\n",
            "Rata-rata Specificity =  0.9571428571428571\n",
            "Rata-rata Sensitivity =  1.0\n",
            "Rata-rata Accuracy =  0.9785714285714284\n"
          ]
        }
      ]
    },
    {
      "cell_type": "markdown",
      "source": [
        "### Boosting"
      ],
      "metadata": {
        "id": "6VgpGNbCf7u9"
      }
    },
    {
      "cell_type": "code",
      "source": [
        "boosting_accur_non_tuning_nonpca = cross_val_score(boosting_1, X_scaled1, y1, scoring=\"accuracy\", cv=5)\n",
        "boosting_sensi_non_tuning_nonpca = cross_val_score(boosting_1, X_scaled1, y1, scoring=sensitivity, cv=5)\n",
        "boosting_speci_non_tuning_nonpca = cross_val_score(boosting_1, X_scaled1, y1, scoring=specificity, cv=5)\n",
        "print(\"Specificity masing-masing = \", boosting_speci_non_tuning_nonpca)\n",
        "print(\"Sensitivity masing-masing = \", boosting_sensi_non_tuning_nonpca)\n",
        "print(\"Accuracy masing-masing = \", boosting_accur_non_tuning_nonpca)\n",
        "print(\"Rata-rata Specificity = \", boosting_speci_non_tuning_nonpca.mean())\n",
        "print(\"Rata-rata Sensitivity = \", boosting_sensi_non_tuning_nonpca.mean())\n",
        "print(\"Rata-rata Accuracy = \", boosting_accur_non_tuning_nonpca.mean())"
      ],
      "metadata": {
        "colab": {
          "base_uri": "https://localhost:8080/"
        },
        "id": "usluNFUYIZld",
        "outputId": "4317608e-8122-4cab-f001-e3c812d01299"
      },
      "execution_count": null,
      "outputs": [
        {
          "output_type": "stream",
          "name": "stdout",
          "text": [
            "Specificity masing-masing =  [0.98214286 1.         1.         1.         0.98214286]\n",
            "Sensitivity masing-masing =  [1.         1.         1.         0.98214286 1.        ]\n",
            "Accuracy masing-masing =  [0.99107143 1.         1.         1.         0.99107143]\n",
            "Rata-rata Specificity =  0.9928571428571429\n",
            "Rata-rata Sensitivity =  0.9964285714285716\n",
            "Rata-rata Accuracy =  0.9964285714285716\n"
          ]
        }
      ]
    },
    {
      "cell_type": "markdown",
      "source": [
        "### Stacking"
      ],
      "metadata": {
        "id": "GxyvVC36f9r9"
      }
    },
    {
      "cell_type": "code",
      "source": [
        "stacking_accur_non_tuning_nonpca = cross_val_score(stacking_1, X_scaled1, y1, scoring=\"accuracy\", cv=5)\n",
        "stacking_sensi_non_tuning_nonpca = cross_val_score(stacking_1, X_scaled1, y1, scoring=sensitivity, cv=5)\n",
        "stacking_speci_non_tuning_nonpca = cross_val_score(stacking_1, X_scaled1, y1, scoring=specificity, cv=5)\n",
        "print(\"Specificity masing-masing = \", stacking_speci_non_tuning_nonpca)\n",
        "print(\"Sensitivity masing-masing = \", stacking_sensi_non_tuning_nonpca)\n",
        "print(\"Accuracy masing-masing = \", stacking_accur_non_tuning_nonpca)\n",
        "print(\"Rata-rata Specificity = \", stacking_speci_non_tuning_nonpca.mean())\n",
        "print(\"Rata-rata Sensitivity = \", stacking_sensi_non_tuning_nonpca.mean())\n",
        "print(\"Rata-rata Accuracy = \", stacking_accur_non_tuning_nonpca.mean())"
      ],
      "metadata": {
        "colab": {
          "base_uri": "https://localhost:8080/"
        },
        "id": "Quy_eF7WIs8G",
        "outputId": "bac295e3-bcad-49e0-d252-90ac861fdb50"
      },
      "execution_count": null,
      "outputs": [
        {
          "output_type": "stream",
          "name": "stdout",
          "text": [
            "Specificity masing-masing =  [0.94642857 0.98214286 0.98214286 0.98214286 0.96428571]\n",
            "Sensitivity masing-masing =  [0.98214286 1.         1.         0.98214286 1.        ]\n",
            "Accuracy masing-masing =  [0.96428571 0.99107143 0.99107143 0.98214286 0.98214286]\n",
            "Rata-rata Specificity =  0.9714285714285713\n",
            "Rata-rata Sensitivity =  0.9928571428571429\n",
            "Rata-rata Accuracy =  0.9821428571428571\n"
          ]
        }
      ]
    },
    {
      "cell_type": "markdown",
      "source": [
        "## With PCA Non tuning"
      ],
      "metadata": {
        "id": "7By8oPvces6s"
      }
    },
    {
      "cell_type": "code",
      "source": [
        "x_2 = df_combine[featuresPCA].values\n",
        "scaler_2 =  preprocessing.StandardScaler().fit(x_2)\n",
        "X_scaled2 = scaler_2.transform(x_2)\n",
        "\n",
        "y2 = df_combine['Annotation'].values \n",
        "print(Counter(y2))"
      ],
      "metadata": {
        "colab": {
          "base_uri": "https://localhost:8080/"
        },
        "id": "_qdAwIdCfBPy",
        "outputId": "0936ba67-ab2c-49c0-89d6-2405d3e15a86"
      },
      "execution_count": null,
      "outputs": [
        {
          "output_type": "stream",
          "name": "stdout",
          "text": [
            "Counter({1: 280, 0: 280})\n"
          ]
        }
      ]
    },
    {
      "cell_type": "code",
      "source": [
        "X_train2, X_test2, y_train2, y_test2 = train_test_split(X_scaled2, y2, test_size = 0.3,random_state = 10)"
      ],
      "metadata": {
        "id": "x865CZcpfOfq"
      },
      "execution_count": null,
      "outputs": []
    },
    {
      "cell_type": "markdown",
      "source": [
        "### Bagging"
      ],
      "metadata": {
        "id": "JdkNylkkfhDd"
      }
    },
    {
      "cell_type": "code",
      "source": [
        "bagging_accur_non_tuning_pca = cross_val_score(bagging_1, X_scaled2, y2, scoring=\"accuracy\", cv=5)\n",
        "bagging_sensi_non_tuning_pca = cross_val_score(bagging_1, X_scaled2, y2, scoring=sensitivity, cv=5)\n",
        "bagging_speci_non_tuning_pca = cross_val_score(bagging_1, X_scaled2, y2, scoring=specificity, cv=5)\n",
        "print(\"Specificity masing-masing = \", bagging_speci_non_tuning_pca)\n",
        "print(\"Sensitivity masing-masing = \", bagging_sensi_non_tuning_pca)\n",
        "print(\"Accuracy masing-masing = \", bagging_accur_non_tuning_pca)\n",
        "print(\"Rata-rata Specificity = \", bagging_speci_non_tuning_pca.mean())\n",
        "print(\"Rata-rata Sensitivity = \", bagging_sensi_non_tuning_pca.mean())\n",
        "print(\"Rata-rata Accuracy = \", bagging_accur_non_tuning_pca.mean())"
      ],
      "metadata": {
        "colab": {
          "base_uri": "https://localhost:8080/"
        },
        "id": "VtRkp66efS7Q",
        "outputId": "ab2941d6-c517-4ab8-8834-54b01e2d4fc3"
      },
      "execution_count": null,
      "outputs": [
        {
          "output_type": "stream",
          "name": "stdout",
          "text": [
            "Specificity masing-masing =  [0.92857143 0.96428571 0.96428571 0.98214286 0.94642857]\n",
            "Sensitivity masing-masing =  [1. 1. 1. 1. 1.]\n",
            "Accuracy masing-masing =  [0.96428571 0.98214286 0.98214286 0.99107143 0.97321429]\n",
            "Rata-rata Specificity =  0.9571428571428571\n",
            "Rata-rata Sensitivity =  1.0\n",
            "Rata-rata Accuracy =  0.9785714285714284\n"
          ]
        }
      ]
    },
    {
      "cell_type": "markdown",
      "source": [
        "### Boosting"
      ],
      "metadata": {
        "id": "eBFcCt3gfzgv"
      }
    },
    {
      "cell_type": "code",
      "source": [
        "boosting_accur_non_tuning_pca = cross_val_score(boosting_1, X_scaled2, y2, scoring=\"accuracy\", cv=5)\n",
        "boosting_sensi_non_tuning_pca = cross_val_score(boosting_1, X_scaled2, y2, scoring=sensitivity, cv=5)\n",
        "boosting_speci_non_tuning_pca = cross_val_score(boosting_1, X_scaled2, y2, scoring=specificity, cv=5)\n",
        "print(\"Specificity masing-masing = \", boosting_speci_non_tuning_pca)\n",
        "print(\"Sensitivity masing-masing = \", boosting_sensi_non_tuning_pca)\n",
        "print(\"Accuracy masing-masing = \", boosting_accur_non_tuning_pca)\n",
        "print(\"Rata-rata Specificity = \", boosting_speci_non_tuning_pca.mean())\n",
        "print(\"Rata-rata Sensitivity = \", boosting_sensi_non_tuning_pca.mean())\n",
        "print(\"Rata-rata Accuracy = \", boosting_accur_non_tuning_pca.mean())"
      ],
      "metadata": {
        "colab": {
          "base_uri": "https://localhost:8080/"
        },
        "id": "keHcenwxfZ66",
        "outputId": "103175a2-62aa-4ea0-d847-548994ce54fb"
      },
      "execution_count": null,
      "outputs": [
        {
          "output_type": "stream",
          "name": "stdout",
          "text": [
            "Specificity masing-masing =  [0.98214286 1.         1.         1.         0.98214286]\n",
            "Sensitivity masing-masing =  [1. 1. 1. 1. 1.]\n",
            "Accuracy masing-masing =  [0.99107143 1.         1.         1.         0.99107143]\n",
            "Rata-rata Specificity =  0.9928571428571429\n",
            "Rata-rata Sensitivity =  1.0\n",
            "Rata-rata Accuracy =  0.9964285714285716\n"
          ]
        }
      ]
    },
    {
      "cell_type": "markdown",
      "source": [
        "### Stacking"
      ],
      "metadata": {
        "id": "NVAllo7Xf23a"
      }
    },
    {
      "cell_type": "code",
      "source": [
        "stacking_accur_non_tuning_pca = cross_val_score(stacking_1, X_scaled1, y1, scoring=\"accuracy\", cv=5)\n",
        "stacking_sensi_non_tuning_pca = cross_val_score(stacking_1, X_scaled1, y1, scoring=sensitivity, cv=5)\n",
        "stacking_speci_non_tuning_pca = cross_val_score(stacking_1, X_scaled1, y1, scoring=specificity, cv=5)\n",
        "print(\"Specificity masing-masing = \", stacking_speci_non_tuning_pca)\n",
        "print(\"Sensitivity masing-masing = \", stacking_sensi_non_tuning_pca)\n",
        "print(\"Accuracy masing-masing = \", stacking_accur_non_tuning_pca)\n",
        "print(\"Rata-rata Specificity = \", stacking_speci_non_tuning_pca.mean())\n",
        "print(\"Rata-rata Sensitivity = \", stacking_sensi_non_tuning_pca.mean())\n",
        "print(\"Rata-rata Accuracy = \", stacking_accur_non_tuning_pca.mean())"
      ],
      "metadata": {
        "colab": {
          "base_uri": "https://localhost:8080/"
        },
        "id": "4wmnCjU3fd7d",
        "outputId": "98ee0b55-7941-46a0-92e0-740f988dbaf5"
      },
      "execution_count": null,
      "outputs": [
        {
          "output_type": "stream",
          "name": "stdout",
          "text": [
            "Specificity masing-masing =  [0.94642857 0.98214286 0.98214286 0.98214286 0.96428571]\n",
            "Sensitivity masing-masing =  [0.98214286 1.         1.         0.98214286 1.        ]\n",
            "Accuracy masing-masing =  [0.96428571 0.99107143 0.99107143 0.98214286 0.98214286]\n",
            "Rata-rata Specificity =  0.9714285714285713\n",
            "Rata-rata Sensitivity =  0.9928571428571429\n",
            "Rata-rata Accuracy =  0.9821428571428571\n"
          ]
        }
      ]
    },
    {
      "cell_type": "markdown",
      "source": [
        "# Tuning"
      ],
      "metadata": {
        "id": "e4szsEU0msOg"
      }
    },
    {
      "cell_type": "code",
      "source": [
        "bagging_param = {\n",
        "    'n_estimators' : [50,100,150,200],\n",
        "    'max_samples' : [5,10,100],\n",
        "    'base_estimator' : [DecisionTreeClassifier(random_state=1)]\n",
        "  }\n",
        "\n",
        "parameters_ab = {\n",
        "        'n_estimators' : [10,20,30,40,50],\n",
        "        'learning_rate' : [0.01, 0.1, 1],  \n",
        "        'base_estimator' : [DecisionTreeClassifier(random_state=1)],\n",
        "        \"base_estimator__max_depth\": [2, 4, 6],\n",
        "        }\n",
        "\n",
        "stacking_param = {\n",
        "  'final_estimator' : [DecisionTreeClassifier(), SVC()],\n",
        "  'stack_method' : ['predict_proba', 'decision_function', 'predict'],\n",
        "  'n_jobs'  : [1,2,3],\n",
        "  \"tree__max_depth\": [2, 4, 6],\n",
        "  \"svm__C\": [0.1, 1, 10],\n",
        "  \"svm__gamma\": [0.1, 1, 10]\n",
        "  }"
      ],
      "metadata": {
        "id": "a3wN_yXfmzjZ"
      },
      "execution_count": null,
      "outputs": []
    },
    {
      "cell_type": "code",
      "source": [],
      "metadata": {
        "id": "H84fypGLqDW1"
      },
      "execution_count": null,
      "outputs": []
    },
    {
      "cell_type": "markdown",
      "source": [],
      "metadata": {
        "id": "RWjzJzztqEB2"
      }
    },
    {
      "cell_type": "markdown",
      "source": [
        "##Bagging (Without PCA)"
      ],
      "metadata": {
        "id": "IjRrfUtGqEFT"
      }
    },
    {
      "cell_type": "code",
      "source": [
        "bagging_tuning = BaggingClassifier()"
      ],
      "metadata": {
        "id": "746KYtz-rZhN"
      },
      "execution_count": null,
      "outputs": []
    },
    {
      "cell_type": "code",
      "source": [
        "search_bagging1 = GridSearchCV(bagging_tuning,\n",
        "                        bagging_param,\n",
        "                        scoring='accuracy',\n",
        "                        cv = 5,\n",
        "                        verbose=1)\n",
        "search_bagging1.fit(X_scaled1, y1)"
      ],
      "metadata": {
        "colab": {
          "base_uri": "https://localhost:8080/"
        },
        "id": "cB1efgvJrdq8",
        "outputId": "ef8dfdc6-413d-4d55-8fd3-37e153f436cc"
      },
      "execution_count": null,
      "outputs": [
        {
          "output_type": "stream",
          "name": "stdout",
          "text": [
            "Fitting 5 folds for each of 12 candidates, totalling 60 fits\n"
          ]
        },
        {
          "output_type": "execute_result",
          "data": {
            "text/plain": [
              "GridSearchCV(cv=5, estimator=BaggingClassifier(),\n",
              "             param_grid={'base_estimator': [DecisionTreeClassifier(random_state=1)],\n",
              "                         'max_samples': [5, 10, 100],\n",
              "                         'n_estimators': [50, 100, 150, 200]},\n",
              "             scoring='accuracy', verbose=1)"
            ]
          },
          "metadata": {},
          "execution_count": 28
        }
      ]
    },
    {
      "cell_type": "code",
      "source": [
        "search_bagging_pca = GridSearchCV(bagging_tuning,\n",
        "                        bagging_param,\n",
        "                        scoring='accuracy',\n",
        "                        \n",
        "                        verbose=1)\n",
        "search_bagging_pca.fit(X_scaled2, y2)"
      ],
      "metadata": {
        "colab": {
          "base_uri": "https://localhost:8080/"
        },
        "id": "qcFz8EkW4W4T",
        "outputId": "c3eff9c7-a516-4f76-fbea-c00920578f26"
      },
      "execution_count": null,
      "outputs": [
        {
          "output_type": "stream",
          "name": "stdout",
          "text": [
            "Fitting 5 folds for each of 12 candidates, totalling 60 fits\n"
          ]
        },
        {
          "output_type": "execute_result",
          "data": {
            "text/plain": [
              "GridSearchCV(estimator=BaggingClassifier(),\n",
              "             param_grid={'base_estimator': [DecisionTreeClassifier(random_state=1)],\n",
              "                         'max_samples': [5, 10, 100],\n",
              "                         'n_estimators': [50, 100, 150, 200]},\n",
              "             scoring='accuracy', verbose=1)"
            ]
          },
          "metadata": {},
          "execution_count": 29
        }
      ]
    },
    {
      "cell_type": "code",
      "source": [
        "bagging1_best_acc_score = search_bagging1.best_score_\n",
        "bagging1_best_parameter = search_bagging1.best_params_\n",
        "print(\"Akurasi terbaik = \", bagging1_best_acc_score)\n",
        "print(\"Parameter terbaik = \", bagging1_best_parameter)"
      ],
      "metadata": {
        "colab": {
          "base_uri": "https://localhost:8080/"
        },
        "id": "s5-gpx6KrwdV",
        "outputId": "7846a2ce-0702-4603-96de-f36482e23f90"
      },
      "execution_count": null,
      "outputs": [
        {
          "output_type": "stream",
          "name": "stdout",
          "text": [
            "Akurasi terbaik =  0.9910714285714286\n",
            "Parameter terbaik =  {'base_estimator': DecisionTreeClassifier(random_state=1), 'max_samples': 100, 'n_estimators': 100}\n"
          ]
        }
      ]
    },
    {
      "cell_type": "code",
      "source": [
        "bagging_pca_best_acc_score = search_bagging_pca.best_score_\n",
        "bagging_pca_best_parameter = search_bagging_pca.best_params_\n",
        "print(\"Akurasi terbaik = \", bagging_pca_best_acc_score)\n",
        "print(\"Parameter terbaik = \", bagging_pca_best_parameter)"
      ],
      "metadata": {
        "colab": {
          "base_uri": "https://localhost:8080/"
        },
        "id": "ellxlVWa4pSf",
        "outputId": "72b6f6b9-f288-42ea-f5ab-17ba0a7e4e3c"
      },
      "execution_count": null,
      "outputs": [
        {
          "output_type": "stream",
          "name": "stdout",
          "text": [
            "Akurasi terbaik =  0.9910714285714286\n",
            "Parameter terbaik =  {'base_estimator': DecisionTreeClassifier(random_state=1), 'max_samples': 100, 'n_estimators': 50}\n"
          ]
        }
      ]
    },
    {
      "cell_type": "code",
      "source": [
        "n_estimators_bagging = bagging1_best_parameter[\"n_estimators\"]\n",
        "max_samples_bagging = bagging1_best_parameter[\"max_samples\"]\n",
        "base_estimator_bagging = bagging1_best_parameter[\"base_estimator\"]\n",
        "\n",
        "\n",
        "\n",
        "\n",
        "bagging_tuning = BaggingClassifier(n_estimators = n_estimators_bagging,max_samples=max_samples_bagging,base_estimator=base_estimator_bagging)\n"
      ],
      "metadata": {
        "id": "pRqCUO6SrhhO"
      },
      "execution_count": null,
      "outputs": []
    },
    {
      "cell_type": "code",
      "source": [
        "n_estimators_bagging_pca = bagging_pca_best_parameter[\"n_estimators\"]\n",
        "max_samples_bagging_pca = bagging_pca_best_parameter[\"max_samples\"]\n",
        "base_estimator_bagging_pca = bagging_pca_best_parameter[\"base_estimator\"]\n",
        "\n",
        "bagging_tuning_pca = BaggingClassifier(n_estimators = n_estimators_bagging_pca,max_samples=max_samples_bagging_pca,base_estimator=base_estimator_bagging)"
      ],
      "metadata": {
        "id": "LKF_RGze5Ksj"
      },
      "execution_count": null,
      "outputs": []
    },
    {
      "cell_type": "code",
      "source": [
        "bagging_tuning_speci_nonpca = cross_val_score(bagging_tuning, X_scaled1, y1, scoring=\"accuracy\", cv=5)\n",
        "bagging_tuning_sensi_nonpca = cross_val_score(bagging_tuning, X_scaled1, y1, scoring=sensitivity, cv=5)\n",
        "bagging_tuning_accur_nonpca = cross_val_score(bagging_tuning, X_scaled1, y1, scoring=specificity, cv=5)\n",
        "print(\"Specificity masing-masing = \", bagging_tuning_speci_nonpca)\n",
        "print(\"Sensitivity masing-masing = \", bagging_tuning_sensi_nonpca)\n",
        "print(\"Accuracy masing-masing = \", bagging_tuning_accur_nonpca)\n",
        "print(\"Rata-rata Specificity = \", bagging_tuning_speci_nonpca.mean())\n",
        "print(\"Rata-rata Sensitivity = \", bagging_tuning_sensi_nonpca.mean())\n",
        "print(\"Rata-rata Accuracy = \", bagging_tuning_accur_nonpca.mean())"
      ],
      "metadata": {
        "colab": {
          "base_uri": "https://localhost:8080/"
        },
        "id": "xljM8_hzriDf",
        "outputId": "6987e55b-cf31-4a1e-df82-6fef8ad54004"
      },
      "execution_count": null,
      "outputs": [
        {
          "output_type": "stream",
          "name": "stdout",
          "text": [
            "Specificity masing-masing =  [0.96428571 1.         1.         1.         0.99107143]\n",
            "Sensitivity masing-masing =  [1. 1. 1. 1. 1.]\n",
            "Accuracy masing-masing =  [0.92857143 1.         1.         1.         0.98214286]\n",
            "Rata-rata Specificity =  0.9910714285714286\n",
            "Rata-rata Sensitivity =  1.0\n",
            "Rata-rata Accuracy =  0.9821428571428571\n"
          ]
        }
      ]
    },
    {
      "cell_type": "markdown",
      "source": [
        "### Bagging Tuning With PCA"
      ],
      "metadata": {
        "id": "2yScOl-tzfNC"
      }
    },
    {
      "cell_type": "code",
      "source": [
        "bagging_tuning_speci_withpca = cross_val_score(bagging_tuning_pca, X_scaled2, y2, scoring=\"accuracy\", cv=5)\n",
        "bagging_tuning_sensi_withpca = cross_val_score(bagging_tuning_pca, X_scaled2, y2, scoring=sensitivity, cv=5)\n",
        "bagging_tuning_accur_withpca = cross_val_score(bagging_tuning_pca, X_scaled2, y2, scoring=specificity, cv=5)\n",
        "print(\"Specificity masing-masing = \", bagging_tuning_speci_withpca)\n",
        "print(\"Sensitivity masing-masing = \", bagging_tuning_sensi_withpca)\n",
        "print(\"Accuracy masing-masing = \", bagging_tuning_accur_withpca)\n",
        "print(\"Rata-rata Specificity = \", bagging_tuning_speci_withpca.mean())\n",
        "print(\"Rata-rata Sensitivity = \", bagging_tuning_sensi_withpca.mean())\n",
        "print(\"Rata-rata Accuracy = \", bagging_tuning_accur_withpca.mean())"
      ],
      "metadata": {
        "colab": {
          "base_uri": "https://localhost:8080/"
        },
        "id": "KnTwVrOjzia4",
        "outputId": "1955e4f4-faaa-4a7d-8fa8-544415de85cd"
      },
      "execution_count": null,
      "outputs": [
        {
          "output_type": "stream",
          "name": "stdout",
          "text": [
            "Specificity masing-masing =  [0.96428571 1.         1.         1.         0.99107143]\n",
            "Sensitivity masing-masing =  [1. 1. 1. 1. 1.]\n",
            "Accuracy masing-masing =  [0.92857143 1.         1.         1.         0.98214286]\n",
            "Rata-rata Specificity =  0.9910714285714286\n",
            "Rata-rata Sensitivity =  1.0\n",
            "Rata-rata Accuracy =  0.9821428571428571\n"
          ]
        }
      ]
    },
    {
      "cell_type": "markdown",
      "source": [
        "### Boosting Without PCA"
      ],
      "metadata": {
        "id": "l9RHmdi4vTJj"
      }
    },
    {
      "cell_type": "code",
      "source": [
        "boosting_tuning = AdaBoostClassifier()"
      ],
      "metadata": {
        "id": "SgiOZcQ6vWQX"
      },
      "execution_count": null,
      "outputs": []
    },
    {
      "cell_type": "code",
      "source": [
        "search_boosting1 = GridSearchCV(boosting_tuning,\n",
        "                        parameters_ab,\n",
        "                        scoring='accuracy',\n",
        "                        cv = 5,\n",
        "                        )\n",
        "search_boosting1.fit(X_scaled1, y1)"
      ],
      "metadata": {
        "colab": {
          "base_uri": "https://localhost:8080/"
        },
        "id": "KJb3AS4Vvddd",
        "outputId": "07b9e75a-4716-4841-8788-920969a029e7"
      },
      "execution_count": null,
      "outputs": [
        {
          "output_type": "execute_result",
          "data": {
            "text/plain": [
              "GridSearchCV(cv=5, estimator=AdaBoostClassifier(),\n",
              "             param_grid={'base_estimator': [DecisionTreeClassifier(max_depth=2,\n",
              "                                                                   random_state=1)],\n",
              "                         'base_estimator__max_depth': [2, 4, 6],\n",
              "                         'learning_rate': [0.01, 0.1, 1],\n",
              "                         'n_estimators': [10, 20, 30, 40, 50]},\n",
              "             scoring='accuracy')"
            ]
          },
          "metadata": {},
          "execution_count": 41
        }
      ]
    },
    {
      "cell_type": "code",
      "source": [
        "search_boosting_pca = GridSearchCV(boosting_tuning,\n",
        "                        parameters_ab,\n",
        "                        scoring='accuracy',\n",
        "                        cv = 5,\n",
        "                        \n",
        "                        )\n",
        "search_boosting_pca.fit(X_scaled2, y2)"
      ],
      "metadata": {
        "colab": {
          "base_uri": "https://localhost:8080/"
        },
        "id": "VMoFNWY263Ea",
        "outputId": "30c8d06f-8f60-4959-8615-8f284782ab82"
      },
      "execution_count": null,
      "outputs": [
        {
          "output_type": "execute_result",
          "data": {
            "text/plain": [
              "GridSearchCV(cv=5, estimator=AdaBoostClassifier(),\n",
              "             param_grid={'base_estimator': [DecisionTreeClassifier(max_depth=2,\n",
              "                                                                   random_state=1)],\n",
              "                         'base_estimator__max_depth': [2, 4, 6],\n",
              "                         'learning_rate': [0.01, 0.1, 1],\n",
              "                         'n_estimators': [10, 20, 30, 40, 50]},\n",
              "             scoring='accuracy')"
            ]
          },
          "metadata": {},
          "execution_count": 42
        }
      ]
    },
    {
      "cell_type": "code",
      "source": [
        "ab1_best_acc_score = search_boosting1.best_score_\n",
        "ab1_best_parameter = search_boosting1.best_params_\n",
        "print(\"Akurasi terbaik = \", ab1_best_acc_score)\n",
        "print(\"Parameter terbaik = \", ab1_best_parameter)"
      ],
      "metadata": {
        "colab": {
          "base_uri": "https://localhost:8080/"
        },
        "id": "EfgA38EQwruZ",
        "outputId": "e8eb24f7-6f87-4ca6-c40f-38744f90cd37"
      },
      "execution_count": null,
      "outputs": [
        {
          "output_type": "stream",
          "name": "stdout",
          "text": [
            "Akurasi terbaik =  0.9964285714285716\n",
            "Parameter terbaik =  {'base_estimator': DecisionTreeClassifier(max_depth=2, random_state=1), 'base_estimator__max_depth': 2, 'learning_rate': 0.01, 'n_estimators': 10}\n"
          ]
        }
      ]
    },
    {
      "cell_type": "code",
      "source": [
        "ab1_pca_best_acc_score = search_boosting_pca.best_score_\n",
        "ab1_pca_best_parameter = search_boosting_pca.best_params_\n",
        "print(\"Akurasi terbaik = \", ab1_pca_best_acc_score)\n",
        "print(\"Parameter terbaik = \", ab1_pca_best_parameter)"
      ],
      "metadata": {
        "colab": {
          "base_uri": "https://localhost:8080/"
        },
        "id": "pBbgoOQr7LGr",
        "outputId": "9bbf444f-beda-4aa6-e510-bc61e2d54c73"
      },
      "execution_count": null,
      "outputs": [
        {
          "output_type": "stream",
          "name": "stdout",
          "text": [
            "Akurasi terbaik =  0.9964285714285716\n",
            "Parameter terbaik =  {'base_estimator': DecisionTreeClassifier(max_depth=2, random_state=1), 'base_estimator__max_depth': 2, 'learning_rate': 0.01, 'n_estimators': 10}\n"
          ]
        }
      ]
    },
    {
      "cell_type": "code",
      "source": [
        "learning_rate_boosting = ab1_best_parameter[\"learning_rate\"]\n",
        "n_estimators_boosting = ab1_best_parameter[\"n_estimators\"]\n",
        "base_estimator_boosting = ab1_best_parameter[\"base_estimator\"]\n",
        "\n",
        "boosting_tuning = AdaBoostClassifier(learning_rate=learning_rate_boosting, n_estimators=n_estimators_boosting,base_estimator = base_estimator_boosting)\n"
      ],
      "metadata": {
        "id": "Xq78eXjQw4Xh"
      },
      "execution_count": null,
      "outputs": []
    },
    {
      "cell_type": "code",
      "source": [
        "learning_rate_boosting_pca = ab1_pca_best_parameter[\"learning_rate\"]\n",
        "n_estimators_boosting_pca = ab1_pca_best_parameter[\"n_estimators\"]\n",
        "base_estimator_boosting_pca = ab1_pca_best_parameter[\"base_estimator\"]\n",
        "\n",
        "boosting_tuning_pca = AdaBoostClassifier(learning_rate=learning_rate_boosting_pca, n_estimators=n_estimators_boosting_pca,base_estimator = base_estimator_boosting_pca)"
      ],
      "metadata": {
        "id": "AS7cP_s7Mw8j"
      },
      "execution_count": null,
      "outputs": []
    },
    {
      "cell_type": "code",
      "source": [
        "boosting_tuning_speci_nonpca = cross_val_score(boosting_tuning, X_scaled1, y1, scoring=\"accuracy\", cv=5)\n",
        "boosting_tuning_sensi_nonpca = cross_val_score(boosting_tuning, X_scaled1, y1, scoring=sensitivity, cv=5)\n",
        "boosting_tuning_accur_nonpca = cross_val_score(boosting_tuning, X_scaled1, y1, scoring=specificity, cv=5)\n",
        "print(\"Specificity masing-masing = \", boosting_tuning_speci_nonpca)\n",
        "print(\"Sensitivity masing-masing = \", boosting_tuning_sensi_nonpca)\n",
        "print(\"Accuracy masing-masing = \", boosting_tuning_accur_nonpca)\n",
        "print(\"Rata-rata Specificity = \", boosting_tuning_speci_nonpca.mean())\n",
        "print(\"Rata-rata Sensitivity = \", boosting_tuning_sensi_nonpca.mean())\n",
        "print(\"Rata-rata Accuracy = \", boosting_tuning_accur_nonpca.mean())"
      ],
      "metadata": {
        "colab": {
          "base_uri": "https://localhost:8080/"
        },
        "id": "eddKgNH-xFvt",
        "outputId": "89f64cb4-483d-46f7-ea0e-c9054d9414a4"
      },
      "execution_count": null,
      "outputs": [
        {
          "output_type": "stream",
          "name": "stdout",
          "text": [
            "Specificity masing-masing =  [0.99107143 1.         1.         0.99107143 0.99107143]\n",
            "Sensitivity masing-masing =  [1. 1. 1. 1. 1.]\n",
            "Accuracy masing-masing =  [0.98214286 1.         1.         1.         0.98214286]\n",
            "Rata-rata Specificity =  0.9946428571428573\n",
            "Rata-rata Sensitivity =  1.0\n",
            "Rata-rata Accuracy =  0.9928571428571429\n"
          ]
        }
      ]
    },
    {
      "cell_type": "markdown",
      "source": [
        "### Boosting Tuning With PCA"
      ],
      "metadata": {
        "id": "pkPOwA8EzzOL"
      }
    },
    {
      "cell_type": "code",
      "source": [
        "boosting_tuning_speci_pca = cross_val_score(boosting_tuning_pca, X_scaled2, y2, scoring=\"accuracy\", cv=5)\n",
        "boosting_tuning_sensi_pca = cross_val_score(boosting_tuning_pca, X_scaled2, y2, scoring=sensitivity, cv=5)\n",
        "boosting_tuning_accur_pca = cross_val_score(boosting_tuning_pca, X_scaled2, y2, scoring=specificity, cv=5)\n",
        "print(\"Specificity masing-masing = \", boosting_tuning_speci_pca)\n",
        "print(\"Sensitivity masing-masing = \", boosting_tuning_sensi_pca)\n",
        "print(\"Accuracy masing-masing = \", boosting_tuning_accur_pca)\n",
        "print(\"Rata-rata Specificity = \", boosting_tuning_speci_pca.mean())\n",
        "print(\"Rata-rata Sensitivity = \", boosting_tuning_sensi_pca.mean())\n",
        "print(\"Rata-rata Accuracy = \", boosting_tuning_accur_pca.mean())"
      ],
      "metadata": {
        "colab": {
          "base_uri": "https://localhost:8080/"
        },
        "id": "y9N8TFzGz5M-",
        "outputId": "48e32dd1-0e54-4d26-b52f-17138fa9aeb3"
      },
      "execution_count": null,
      "outputs": [
        {
          "output_type": "stream",
          "name": "stdout",
          "text": [
            "Specificity masing-masing =  [0.99107143 1.         1.         1.         0.99107143]\n",
            "Sensitivity masing-masing =  [1. 1. 1. 1. 1.]\n",
            "Accuracy masing-masing =  [0.98214286 1.         1.         1.         0.98214286]\n",
            "Rata-rata Specificity =  0.9964285714285716\n",
            "Rata-rata Sensitivity =  1.0\n",
            "Rata-rata Accuracy =  0.9928571428571429\n"
          ]
        }
      ]
    },
    {
      "cell_type": "markdown",
      "source": [
        "### Stacking Tuning Without PCA"
      ],
      "metadata": {
        "id": "jA_WMoqgyzuL"
      }
    },
    {
      "cell_type": "code",
      "source": [
        "stack_tuning = StackingClassifier(estimators=estimators)"
      ],
      "metadata": {
        "id": "NKFI8wF8yy4N"
      },
      "execution_count": null,
      "outputs": []
    },
    {
      "cell_type": "code",
      "source": [
        "search_stack1 = GridSearchCV(stack_tuning,\n",
        "                        stacking_param,\n",
        "                        scoring='accuracy',\n",
        "                        cv = 5,\n",
        "                        verbose=1)\n",
        "search_stack1.fit(X_scaled1, y1)"
      ],
      "metadata": {
        "id": "IGuQTvz3_dei"
      },
      "execution_count": null,
      "outputs": []
    },
    {
      "cell_type": "code",
      "source": [
        "stack1_best_acc_score = search_stack1.best_score_\n",
        "stack1_best_parameter = search_stack1.best_params_\n",
        "print(\"Akurasi terbaik = \", stack1_best_acc_score)\n",
        "print(\"Parameter terbaik = \", stack1_best_parameter)"
      ],
      "metadata": {
        "colab": {
          "base_uri": "https://localhost:8080/"
        },
        "id": "5A0bQV1mzEZE",
        "outputId": "31c211c9-8204-4880-fb5d-8118082281b6"
      },
      "execution_count": null,
      "outputs": [
        {
          "output_type": "stream",
          "name": "stdout",
          "text": [
            "Akurasi terbaik =  0.9946428571428573\n",
            "Parameter terbaik =  {'final_estimator': DecisionTreeClassifier(), 'n_jobs': 1, 'stack_method': 'predict_proba', 'svm__C': 0.1, 'svm__gamma': 1, 'tree__max_depth': 2}\n"
          ]
        }
      ]
    },
    {
      "cell_type": "code",
      "source": [
        "search_stack2 = GridSearchCV(stack_tuning,\n",
        "                        stacking_param,\n",
        "                        scoring='accuracy',\n",
        "                        cv = 5,\n",
        "                        verbose=1)\n",
        "search_stack2.fit(X_scaled2, y2)"
      ],
      "metadata": {
        "id": "2be85Uig_bTk"
      },
      "execution_count": null,
      "outputs": []
    },
    {
      "cell_type": "code",
      "source": [
        "final_estimator = stack1_best_parameter[\"final_estimator\"]\n",
        "stack_method = stack1_best_parameter[\"stack_method\"]\n",
        "n_jobs_nonpca = stack1_best_parameter[\"n_jobs\"]\n",
        "\n",
        "estimators_tuning_nonpca = [\n",
        "    ('tree', DecisionTreeClassifier(max_depth=2, random_state=1)),\n",
        "    ('svm', SVC(probability=True, random_state=1,C=0.1,gamma=1)),\n",
        "    \n",
        "]\n",
        "\n",
        "\n",
        "\n",
        "\n",
        "stack_tuning = StackingClassifier(estimators=estimators_tuning_nonpca,final_estimator=final_estimator,stack_method=stack_method,n_jobs=n_jobs_nonpca)\n"
      ],
      "metadata": {
        "id": "oZrh6IqKzK9Y"
      },
      "execution_count": null,
      "outputs": []
    },
    {
      "cell_type": "code",
      "source": [
        "stack2_best_acc_score = search_stack2.best_score_\n",
        "stack2_best_parameter = search_stack2.best_params_\n",
        "print(\"Akurasi terbaik = \", stack2_best_acc_score)\n",
        "print(\"Parameter terbaik = \", stack2_best_parameter)"
      ],
      "metadata": {
        "colab": {
          "base_uri": "https://localhost:8080/"
        },
        "id": "NPkOJfR9CKSU",
        "outputId": "baddd28e-5afd-4a4d-a96d-36130ade6d21"
      },
      "execution_count": null,
      "outputs": [
        {
          "output_type": "stream",
          "name": "stdout",
          "text": [
            "Akurasi terbaik =  0.9964285714285716\n",
            "Parameter terbaik =  {'final_estimator': DecisionTreeClassifier(), 'n_jobs': 1, 'stack_method': 'predict_proba', 'svm__C': 0.1, 'svm__gamma': 10, 'tree__max_depth': 2}\n"
          ]
        }
      ]
    },
    {
      "cell_type": "code",
      "source": [
        "final_estimator2 = stack2_best_parameter[\"final_estimator\"]\n",
        "stack_method2 = stack2_best_parameter[\"stack_method\"]\n",
        "n_jobs2 = stack2_best_parameter[\"n_jobs\"]\n",
        "\n",
        "\n",
        "estimators2 = [\n",
        "    ('tree', DecisionTreeClassifier(max_depth=2, random_state=1)),\n",
        "    ('svm', SVC(probability=True, random_state=1,C=0.1,gamma=10)),\n",
        "    \n",
        "]\n",
        "\n",
        "stack_tuning_2 = StackingClassifier(estimators=estimators2,final_estimator=final_estimator2,\n",
        "                                    stack_method=stack_method2,n_jobs=n_jobs2)"
      ],
      "metadata": {
        "id": "fCMDdJjgCQ3A"
      },
      "execution_count": null,
      "outputs": []
    },
    {
      "cell_type": "code",
      "source": [
        "stack_tuning_speci_nonpca = cross_val_score(stack_tuning, X_scaled1, y1, scoring=\"accuracy\", cv=5)\n",
        "stack_tuning_sensi_nonpca = cross_val_score(stack_tuning, X_scaled1, y1, scoring=sensitivity, cv=5)\n",
        "stack_tuning_accur_nonpca = cross_val_score(stack_tuning, X_scaled1, y1, scoring=specificity, cv=5)\n",
        "print(\"Specificity masing-masing = \", stack_tuning_speci_nonpca)\n",
        "print(\"Sensitivity masing-masing = \", stack_tuning_sensi_nonpca)\n",
        "print(\"Accuracy masing-masing = \", stack_tuning_accur_nonpca)\n",
        "print(\"Rata-rata Specificity = \", stack_tuning_speci_nonpca.mean())\n",
        "print(\"Rata-rata Sensitivity = \", stack_tuning_sensi_nonpca.mean())\n",
        "print(\"Rata-rata Accuracy = \", stack_tuning_accur_nonpca.mean())"
      ],
      "metadata": {
        "colab": {
          "base_uri": "https://localhost:8080/"
        },
        "id": "I4486K7CzOpX",
        "outputId": "f01a3631-1c62-4d55-cada-5f22a354f7db"
      },
      "execution_count": null,
      "outputs": [
        {
          "output_type": "stream",
          "name": "stdout",
          "text": [
            "Specificity masing-masing =  [0.99107143 1.         1.         0.99107143 0.99107143]\n",
            "Sensitivity masing-masing =  [1.         1.         1.         0.98214286 1.        ]\n",
            "Accuracy masing-masing =  [0.98214286 1.         1.         1.         0.98214286]\n",
            "Rata-rata Specificity =  0.9946428571428573\n",
            "Rata-rata Sensitivity =  0.9964285714285716\n",
            "Rata-rata Accuracy =  0.9928571428571429\n"
          ]
        }
      ]
    },
    {
      "cell_type": "markdown",
      "source": [
        "### Stacking Tuning With PCA"
      ],
      "metadata": {
        "id": "q32QppV80Iag"
      }
    },
    {
      "cell_type": "code",
      "source": [
        "stack_tuning_speci_pca = cross_val_score(stack_tuning_2, X_scaled2, y2, scoring=\"accuracy\", cv=5)\n",
        "stack_tuning_sensi_pca = cross_val_score(stack_tuning_2, X_scaled2, y2, scoring=sensitivity, cv=5)\n",
        "stack_tuning_accur_pca = cross_val_score(stack_tuning_2, X_scaled2, y2, scoring=specificity, cv=5)\n",
        "print(\"Specificity masing-masing = \", stack_tuning_speci_pca)\n",
        "print(\"Sensitivity masing-masing = \", stack_tuning_sensi_pca)\n",
        "print(\"Accuracy masing-masing = \", stack_tuning_accur_pca)\n",
        "print(\"Rata-rata Specificity = \", stack_tuning_speci_pca.mean())\n",
        "print(\"Rata-rata Sensitivity = \", stack_tuning_sensi_pca.mean())\n",
        "print(\"Rata-rata Accuracy = \", stack_tuning_accur_pca.mean())"
      ],
      "metadata": {
        "colab": {
          "base_uri": "https://localhost:8080/"
        },
        "id": "behqekte0NHv",
        "outputId": "965f2910-dbd1-460f-b88f-c4e6178480bc"
      },
      "execution_count": null,
      "outputs": [
        {
          "output_type": "stream",
          "name": "stdout",
          "text": [
            "Specificity masing-masing =  [0.99107143 1.         1.         1.         0.99107143]\n",
            "Sensitivity masing-masing =  [1. 1. 1. 1. 1.]\n",
            "Accuracy masing-masing =  [0.98214286 1.         1.         1.         0.98214286]\n",
            "Rata-rata Specificity =  0.9964285714285716\n",
            "Rata-rata Sensitivity =  1.0\n",
            "Rata-rata Accuracy =  0.9928571428571429\n"
          ]
        }
      ]
    },
    {
      "cell_type": "markdown",
      "source": [
        "# Validasi"
      ],
      "metadata": {
        "id": "KWVlTgUK3vF-"
      }
    },
    {
      "cell_type": "markdown",
      "source": [
        "## Bagging"
      ],
      "metadata": {
        "id": "M6cx2-2a4Qjx"
      }
    },
    {
      "cell_type": "markdown",
      "source": [
        "### Bagging non Tuning Without PCA"
      ],
      "metadata": {
        "id": "tBr6XloT3x0g"
      }
    },
    {
      "cell_type": "code",
      "source": [
        "bagging_1.fit(X_train1,y_train1)"
      ],
      "metadata": {
        "colab": {
          "base_uri": "https://localhost:8080/"
        },
        "id": "_FOsQzyD47jO",
        "outputId": "a22ef663-5eaf-490b-95c1-241172c4922b"
      },
      "execution_count": null,
      "outputs": [
        {
          "output_type": "execute_result",
          "data": {
            "text/plain": [
              "BaggingClassifier(base_estimator=DecisionTreeClassifier(max_depth=1,\n",
              "                                                        random_state=1))"
            ]
          },
          "metadata": {},
          "execution_count": 64
        }
      ]
    },
    {
      "cell_type": "markdown",
      "source": [
        "Hasil Prediksi dengan data train"
      ],
      "metadata": {
        "id": "zFS1fNpV5g6L"
      }
    },
    {
      "cell_type": "code",
      "source": [
        "bagging_nontuning_val_nonpca = bagging_1.predict(X_train1)\n",
        "print(\"Specificity  : \", metrics.recall_score(y_train1, bagging_nontuning_val_nonpca,pos_label=0))\n",
        "print(\"Sensitivity  : \", metrics.recall_score(y_train1, bagging_nontuning_val_nonpca,pos_label=1))\n",
        "print(\"Accuracy : \", metrics.accuracy_score(y_train1, bagging_nontuning_val_nonpca))\n",
        "\n"
      ],
      "metadata": {
        "colab": {
          "base_uri": "https://localhost:8080/"
        },
        "id": "oQG90WCj47-0",
        "outputId": "392ec8c3-fc19-4077-d0d1-71bd39ac8867"
      },
      "execution_count": null,
      "outputs": [
        {
          "output_type": "stream",
          "name": "stdout",
          "text": [
            "Specificity  :  0.9591836734693877\n",
            "Sensitivity  :  1.0\n",
            "Accuracy :  0.9795918367346939\n"
          ]
        }
      ]
    },
    {
      "cell_type": "code",
      "source": [
        "cf_matrix = metrics.confusion_matrix(y_train1, bagging_nontuning_val_nonpca, labels=[1,0]).transpose()\n",
        "\n",
        "plt.figure(figsize=(15,8))\n",
        "ax = plt.subplot()\n",
        "sns.heatmap(cf_matrix, annot=True, fmt='g', cmap='Blues', ax=ax)\n",
        "ax.set_xlabel('Aktual')\n",
        "ax.set_ylabel('Prediksi')\n",
        "ax.set_title('Confusion Matrix Bagging non Tuning without PCA') \n",
        "ax.xaxis.set_ticklabels(['1', '0'])\n",
        "ax.yaxis.set_ticklabels(['1', '0'])"
      ],
      "metadata": {
        "colab": {
          "base_uri": "https://localhost:8080/",
          "height": 531
        },
        "id": "idBlZCrC5lcr",
        "outputId": "a72cdad6-9e8c-41a1-98f1-acdb1fec98c1"
      },
      "execution_count": null,
      "outputs": [
        {
          "output_type": "execute_result",
          "data": {
            "text/plain": [
              "[Text(0, 0.5, '1'), Text(0, 1.5, '0')]"
            ]
          },
          "metadata": {},
          "execution_count": 66
        },
        {
          "output_type": "display_data",
          "data": {
            "text/plain": [
              "<Figure size 1080x576 with 2 Axes>"
            ],
            "image/png": "[encoded data removed]"
          },
          "metadata": {
            "needs_background": "light"
          }
        }
      ]
    },
    {
      "cell_type": "markdown",
      "source": [
        "Hasil Prediksi dengan data test"
      ],
      "metadata": {
        "id": "BDmkItSX-TTg"
      }
    },
    {
      "cell_type": "code",
      "source": [
        "bagging1_prediksi = bagging_1.predict(X_test1)\n",
        "print(\"Specificity  : \", metrics.recall_score(y_test1, bagging1_prediksi,pos_label=0))\n",
        "print(\"Sensitivity  : \", metrics.recall_score(y_test1, bagging1_prediksi,pos_label=1))\n",
        "print(\"Accuracy : \", metrics.accuracy_score(y_test1, bagging1_prediksi))\n"
      ],
      "metadata": {
        "colab": {
          "base_uri": "https://localhost:8080/"
        },
        "id": "qQkv5pVN-Xjn",
        "outputId": "edb960c5-5807-4d05-dc10-4ea3694cfc5a"
      },
      "execution_count": null,
      "outputs": [
        {
          "output_type": "stream",
          "name": "stdout",
          "text": [
            "Specificity  :  0.9642857142857143\n",
            "Sensitivity  :  1.0\n",
            "Accuracy :  0.9821428571428571\n"
          ]
        }
      ]
    },
    {
      "cell_type": "code",
      "source": [
        "cf_matrix = metrics.confusion_matrix(y_test1, bagging1_prediksi, labels=[1,0]).transpose()\n",
        "\n",
        "plt.figure(figsize=(15,8))\n",
        "ax = plt.subplot()\n",
        "sns.heatmap(cf_matrix, annot=True, fmt='g', cmap='Blues', ax=ax)\n",
        "ax.set_xlabel('Aktual')\n",
        "ax.set_ylabel('Prediksi')\n",
        "ax.set_title('Confusion Matrix Bagging non Tuning ') \n",
        "ax.xaxis.set_ticklabels(['1', '0'])\n",
        "ax.yaxis.set_ticklabels(['1', '0'])"
      ],
      "metadata": {
        "colab": {
          "base_uri": "https://localhost:8080/",
          "height": 531
        },
        "id": "jIKJxUOT-aj1",
        "outputId": "bace9a98-9ee1-4a60-f5eb-ce9951840f85"
      },
      "execution_count": null,
      "outputs": [
        {
          "output_type": "execute_result",
          "data": {
            "text/plain": [
              "[Text(0, 0.5, '1'), Text(0, 1.5, '0')]"
            ]
          },
          "metadata": {},
          "execution_count": 68
        },
        {
          "output_type": "display_data",
          "data": {
            "text/plain": [
              "<Figure size 1080x576 with 2 Axes>"
            ],
            "image/png": "[encoded data removed]"
          },
          "metadata": {
            "needs_background": "light"
          }
        }
      ]
    },
    {
      "cell_type": "markdown",
      "source": [
        "### Bagging non Tuning With PCA"
      ],
      "metadata": {
        "id": "EKBU4rVX36ik"
      }
    },
    {
      "cell_type": "code",
      "source": [
        "bagging1_pca.fit(X_train2,y_train2)"
      ],
      "metadata": {
        "colab": {
          "base_uri": "https://localhost:8080/"
        },
        "id": "09lAADvu-vUI",
        "outputId": "8cad80bf-8765-464d-d0ef-a57eb2948522"
      },
      "execution_count": null,
      "outputs": [
        {
          "output_type": "execute_result",
          "data": {
            "text/plain": [
              "BaggingClassifier(base_estimator=DecisionTreeClassifier(max_depth=1,\n",
              "                                                        random_state=1))"
            ]
          },
          "metadata": {},
          "execution_count": 69
        }
      ]
    },
    {
      "cell_type": "markdown",
      "source": [
        "Hasil prediksi pada data train"
      ],
      "metadata": {
        "id": "wc0mL4EhB905"
      }
    },
    {
      "cell_type": "code",
      "source": [
        "bagging_nontuning_val_pca = bagging1_pca.predict(X_train2)\n",
        "print(\"Specificity  : \", metrics.recall_score(y_train2, bagging_nontuning_val_pca,pos_label=0))\n",
        "print(\"Sensitivity  : \", metrics.recall_score(y_train2, bagging_nontuning_val_pca,pos_label=1))\n",
        "print(\"Accuracy : \", metrics.accuracy_score(y_train2, bagging_nontuning_val_pca))\n"
      ],
      "metadata": {
        "colab": {
          "base_uri": "https://localhost:8080/"
        },
        "id": "yB76E_umCArP",
        "outputId": "66d0e624-508b-48c1-f117-80a7bc69473e"
      },
      "execution_count": null,
      "outputs": [
        {
          "output_type": "stream",
          "name": "stdout",
          "text": [
            "Specificity  :  0.9591836734693877\n",
            "Sensitivity  :  1.0\n",
            "Accuracy :  0.9795918367346939\n"
          ]
        }
      ]
    },
    {
      "cell_type": "code",
      "source": [
        "cf_matrix = metrics.confusion_matrix(y_train2, bagging_nontuning_val_pca, labels=[1,0]).transpose()\n",
        "\n",
        "plt.figure(figsize=(15,8))\n",
        "ax = plt.subplot()\n",
        "sns.heatmap(cf_matrix, annot=True, fmt='g', cmap='Blues', ax=ax)\n",
        "ax.set_xlabel('Aktual')\n",
        "ax.set_ylabel('Prediksi')\n",
        "ax.set_title('Confusion Matrix Bagging non Tuning with PCA') \n",
        "ax.xaxis.set_ticklabels(['1', '0'])\n",
        "ax.yaxis.set_ticklabels(['1', '0'])"
      ],
      "metadata": {
        "colab": {
          "base_uri": "https://localhost:8080/"
        },
        "id": "31Cg1PE7CCwY",
        "outputId": "45d81228-c5b1-4169-9940-99c6082d9bc5"
      },
      "execution_count": null,
      "outputs": [
        {
          "output_type": "execute_result",
          "data": {
            "text/plain": [
              "[Text(0, 0.5, '1'), Text(0, 1.5, '0')]"
            ]
          },
          "metadata": {},
          "execution_count": 71
        },
        {
          "output_type": "display_data",
          "data": {
            "text/plain": [
              "<Figure size 1080x576 with 2 Axes>"
            ],
            "image/png": "[encoded data removed]"
          },
          "metadata": {
            "needs_background": "light"
          }
        }
      ]
    },
    {
      "cell_type": "markdown",
      "source": [
        "Hasil prediksi pada data test"
      ],
      "metadata": {
        "id": "tMmb_sqsCDC9"
      }
    },
    {
      "cell_type": "code",
      "source": [
        "bagging1_prediksi_pca = bagging1_pca.predict(X_test2)\n",
        "print(\"Specificity  : \", metrics.recall_score(y_test2, bagging1_prediksi_pca,pos_label=0))\n",
        "print(\"Sensitivity  : \", metrics.recall_score(y_test2, bagging1_prediksi_pca,pos_label=1))\n",
        "print(\"Accuracy : \", metrics.accuracy_score(y_test2, bagging1_prediksi_pca))\n"
      ],
      "metadata": {
        "colab": {
          "base_uri": "https://localhost:8080/"
        },
        "id": "LN5XnGoSCEtW",
        "outputId": "21c805b4-b615-4130-e3a9-a63db9e274a2"
      },
      "execution_count": null,
      "outputs": [
        {
          "output_type": "stream",
          "name": "stdout",
          "text": [
            "Specificity  :  0.9642857142857143\n",
            "Sensitivity  :  1.0\n",
            "Accuracy :  0.9821428571428571\n"
          ]
        }
      ]
    },
    {
      "cell_type": "code",
      "source": [
        "cf_matrix = metrics.confusion_matrix(y_test2, bagging1_prediksi_pca, labels=[1,0]).transpose()\n",
        "\n",
        "plt.figure(figsize=(15,8))\n",
        "ax = plt.subplot()\n",
        "sns.heatmap(cf_matrix, annot=True, fmt='g', cmap='Blues', ax=ax)\n",
        "ax.set_xlabel('Aktual')\n",
        "ax.set_ylabel('Prediksi')\n",
        "ax.set_title('Confusion Matrix Bagging non Tuning with PCA ') \n",
        "ax.xaxis.set_ticklabels(['1', '0'])\n",
        "ax.yaxis.set_ticklabels(['1', '0'])"
      ],
      "metadata": {
        "colab": {
          "base_uri": "https://localhost:8080/"
        },
        "id": "vKGqMg2VCE5C",
        "outputId": "9b4ecd56-3ed5-4913-c881-2f72376ef3a2"
      },
      "execution_count": null,
      "outputs": [
        {
          "output_type": "execute_result",
          "data": {
            "text/plain": [
              "[Text(0, 0.5, '1'), Text(0, 1.5, '0')]"
            ]
          },
          "metadata": {},
          "execution_count": 73
        },
        {
          "output_type": "display_data",
          "data": {
            "text/plain": [
              "<Figure size 1080x576 with 2 Axes>"
            ],
            "image/png": "[encoded data removed]"
          },
          "metadata": {
            "needs_background": "light"
          }
        }
      ]
    },
    {
      "cell_type": "markdown",
      "source": [
        "### Bagging Tuning Without PCA"
      ],
      "metadata": {
        "id": "KrcK4U7c4FeN"
      }
    },
    {
      "cell_type": "code",
      "source": [
        "bagging_tuning.fit(X_train1,y_train1)\n"
      ],
      "metadata": {
        "colab": {
          "base_uri": "https://localhost:8080/"
        },
        "id": "Jc4Mt5dNCGAM",
        "outputId": "5bfe5876-88c7-4a43-eeeb-f548da504db2"
      },
      "execution_count": null,
      "outputs": [
        {
          "output_type": "execute_result",
          "data": {
            "text/plain": [
              "BaggingClassifier(base_estimator=DecisionTreeClassifier(random_state=1),\n",
              "                  max_samples=100, n_estimators=100)"
            ]
          },
          "metadata": {},
          "execution_count": 74
        }
      ]
    },
    {
      "cell_type": "code",
      "source": [
        "bagging_tuning_pca.fit(X_train2,y_train2)"
      ],
      "metadata": {
        "colab": {
          "base_uri": "https://localhost:8080/"
        },
        "id": "b7HRZSLVEiJq",
        "outputId": "a55b3dd8-4624-4dc3-83bc-6792d6de93fb"
      },
      "execution_count": null,
      "outputs": [
        {
          "output_type": "execute_result",
          "data": {
            "text/plain": [
              "BaggingClassifier(base_estimator=DecisionTreeClassifier(random_state=1),\n",
              "                  max_samples=100, n_estimators=50)"
            ]
          },
          "metadata": {},
          "execution_count": 75
        }
      ]
    },
    {
      "cell_type": "markdown",
      "source": [
        "Hasil prediksi pada data train"
      ],
      "metadata": {
        "id": "H3nq10wXCGKK"
      }
    },
    {
      "cell_type": "code",
      "source": [
        "bagging_tuning_val_nonpca = bagging_tuning.predict(X_train1)\n",
        "print(\"Specificity  : \", metrics.recall_score(y_train1, bagging_tuning_val_nonpca,pos_label=0))\n",
        "print(\"Sensitivity  : \", metrics.recall_score(y_train1, bagging_tuning_val_nonpca,pos_label=1))\n",
        "print(\"Accuracy : \", metrics.accuracy_score(y_train1, bagging_tuning_val_nonpca))\n"
      ],
      "metadata": {
        "colab": {
          "base_uri": "https://localhost:8080/"
        },
        "id": "D2TZ8txTCH9u",
        "outputId": "2d7722fe-3014-4354-fb59-73daf182f6c5"
      },
      "execution_count": null,
      "outputs": [
        {
          "output_type": "stream",
          "name": "stdout",
          "text": [
            "Specificity  :  0.9948979591836735\n",
            "Sensitivity  :  1.0\n",
            "Accuracy :  0.9974489795918368\n"
          ]
        }
      ]
    },
    {
      "cell_type": "code",
      "source": [
        "cf_matrix = metrics.confusion_matrix(y_train1, bagging_tuning_val_nonpca, labels=[1,0]).transpose()\n",
        "\n",
        "plt.figure(figsize=(15,8))\n",
        "ax = plt.subplot()\n",
        "sns.heatmap(cf_matrix, annot=True, fmt='g', cmap='Blues', ax=ax)\n",
        "ax.set_xlabel('Aktual')\n",
        "ax.set_ylabel('Prediksi')\n",
        "ax.set_title('Confusion Matrix Bagging Tuning without PCA') \n",
        "ax.xaxis.set_ticklabels(['1', '0'])\n",
        "ax.yaxis.set_ticklabels(['1', '0'])"
      ],
      "metadata": {
        "colab": {
          "base_uri": "https://localhost:8080/",
          "height": 531
        },
        "id": "ARhAWXH_CIBx",
        "outputId": "cf91ee2f-158a-4ede-f2b1-0a5b183cfb60"
      },
      "execution_count": null,
      "outputs": [
        {
          "output_type": "execute_result",
          "data": {
            "text/plain": [
              "[Text(0, 0.5, '1'), Text(0, 1.5, '0')]"
            ]
          },
          "metadata": {},
          "execution_count": 77
        },
        {
          "output_type": "display_data",
          "data": {
            "text/plain": [
              "<Figure size 1080x576 with 2 Axes>"
            ],
            "image/png": "[encoded data removed]"
          },
          "metadata": {
            "needs_background": "light"
          }
        }
      ]
    },
    {
      "cell_type": "markdown",
      "source": [
        "Hasil prediksi pada data test"
      ],
      "metadata": {
        "id": "azThBj5zCInP"
      }
    },
    {
      "cell_type": "code",
      "source": [
        "bagging_tuning_nonpca_prediksi = bagging_tuning.predict(X_test1)\n",
        "print(\"Specificity  : \", metrics.recall_score(y_test1, bagging_tuning_nonpca_prediksi,pos_label=0))\n",
        "print(\"Sensitivity  : \", metrics.recall_score(y_test1, bagging_tuning_nonpca_prediksi,pos_label=1))\n",
        "print(\"Accuracy : \", metrics.accuracy_score(y_test1, bagging_tuning_nonpca_prediksi))\n"
      ],
      "metadata": {
        "colab": {
          "base_uri": "https://localhost:8080/"
        },
        "id": "qFwpoGbcCKCm",
        "outputId": "0eb24426-deaf-45b9-f680-6a4362d95da6"
      },
      "execution_count": null,
      "outputs": [
        {
          "output_type": "stream",
          "name": "stdout",
          "text": [
            "Specificity  :  0.9880952380952381\n",
            "Sensitivity  :  1.0\n",
            "Accuracy :  0.9940476190476191\n"
          ]
        }
      ]
    },
    {
      "cell_type": "code",
      "source": [
        "cf_matrix = metrics.confusion_matrix(y_test1, bagging_tuning_nonpca_prediksi, labels=[1,0]).transpose()\n",
        "\n",
        "plt.figure(figsize=(15,8))\n",
        "ax = plt.subplot()\n",
        "sns.heatmap(cf_matrix, annot=True, fmt='g', cmap='Blues', ax=ax)\n",
        "ax.set_xlabel('Aktual')\n",
        "ax.set_ylabel('Prediksi')\n",
        "ax.set_title('Confusion Matrix Bagging Tuning ') \n",
        "ax.xaxis.set_ticklabels(['1', '0'])\n",
        "ax.yaxis.set_ticklabels(['1', '0'])"
      ],
      "metadata": {
        "colab": {
          "base_uri": "https://localhost:8080/",
          "height": 531
        },
        "id": "HUVeeyAoCKE7",
        "outputId": "0fa653f4-fb39-41c2-c201-d9e02d514806"
      },
      "execution_count": null,
      "outputs": [
        {
          "output_type": "execute_result",
          "data": {
            "text/plain": [
              "[Text(0, 0.5, '1'), Text(0, 1.5, '0')]"
            ]
          },
          "metadata": {},
          "execution_count": 79
        },
        {
          "output_type": "display_data",
          "data": {
            "text/plain": [
              "<Figure size 1080x576 with 2 Axes>"
            ],
            "image/png": "[encoded data removed]"
          },
          "metadata": {
            "needs_background": "light"
          }
        }
      ]
    },
    {
      "cell_type": "markdown",
      "source": [
        "### Bagging Tuning With PCA\n",
        "\n"
      ],
      "metadata": {
        "id": "PMj3zZvJ3-_A"
      }
    },
    {
      "cell_type": "markdown",
      "source": [
        "Hasil prediksi pada data train"
      ],
      "metadata": {
        "id": "b8DqgcCXCLKb"
      }
    },
    {
      "cell_type": "code",
      "source": [
        "bagging_tuning_val_pca = bagging_tuning_pca.predict(X_train2)\n",
        "print(\"Specificity  : \", metrics.recall_score(y_train2, bagging_tuning_val_pca,pos_label=0))\n",
        "print(\"Sensitivity  : \", metrics.recall_score(y_train2, bagging_tuning_val_pca,pos_label=1))\n",
        "print(\"Accuracy : \", metrics.accuracy_score(y_train2, bagging_tuning_val_pca))"
      ],
      "metadata": {
        "colab": {
          "base_uri": "https://localhost:8080/"
        },
        "id": "MVYAXbkgCM4C",
        "outputId": "e9c90634-9ad7-458a-ab40-37118b4e6c92"
      },
      "execution_count": null,
      "outputs": [
        {
          "output_type": "stream",
          "name": "stdout",
          "text": [
            "Specificity  :  0.9795918367346939\n",
            "Sensitivity  :  1.0\n",
            "Accuracy :  0.9897959183673469\n"
          ]
        }
      ]
    },
    {
      "cell_type": "code",
      "source": [
        "cf_matrix = metrics.confusion_matrix(y_train2, bagging_tuning_val_pca, labels=[1,0]).transpose()\n",
        "\n",
        "plt.figure(figsize=(15,8))\n",
        "ax = plt.subplot()\n",
        "sns.heatmap(cf_matrix, annot=True, fmt='g', cmap='Blues', ax=ax)\n",
        "ax.set_xlabel('Aktual')\n",
        "ax.set_ylabel('Prediksi')\n",
        "ax.set_title('Confusion Matrix Bagging Tuning with PCA') \n",
        "ax.xaxis.set_ticklabels(['1', '0'])\n",
        "ax.yaxis.set_ticklabels(['1', '0'])"
      ],
      "metadata": {
        "colab": {
          "base_uri": "https://localhost:8080/"
        },
        "id": "8-pnKcHzCM6k",
        "outputId": "ab51aed8-1e9c-4791-d054-ae1b98b119b5"
      },
      "execution_count": null,
      "outputs": [
        {
          "output_type": "execute_result",
          "data": {
            "text/plain": [
              "[Text(0, 0.5, '1'), Text(0, 1.5, '0')]"
            ]
          },
          "metadata": {},
          "execution_count": 81
        },
        {
          "output_type": "display_data",
          "data": {
            "text/plain": [
              "<Figure size 1080x576 with 2 Axes>"
            ],
            "image/png": "[encoded data removed]"
          },
          "metadata": {
            "needs_background": "light"
          }
        }
      ]
    },
    {
      "cell_type": "markdown",
      "source": [
        "Hasil prediksi pada data test"
      ],
      "metadata": {
        "id": "B5qoSS8kCNNu"
      }
    },
    {
      "cell_type": "code",
      "source": [
        "bagging_tuning_pca_prediksi = bagging_tuning_pca.predict(X_test2)\n",
        "print(\"Specificity  : \", metrics.recall_score(y_test2, bagging_tuning_pca_prediksi,pos_label=0))\n",
        "print(\"Sensitivity  : \", metrics.recall_score(y_test2, bagging_tuning_pca_prediksi,pos_label=1))\n",
        "print(\"Accuracy : \", metrics.accuracy_score(y_test2, bagging_tuning_pca_prediksi))\n"
      ],
      "metadata": {
        "colab": {
          "base_uri": "https://localhost:8080/"
        },
        "id": "PO-l1xgqCOuC",
        "outputId": "400af41b-01cc-4ea3-dadf-a9381b15b823"
      },
      "execution_count": null,
      "outputs": [
        {
          "output_type": "stream",
          "name": "stdout",
          "text": [
            "Specificity  :  0.9880952380952381\n",
            "Sensitivity  :  1.0\n",
            "Accuracy :  0.9940476190476191\n"
          ]
        }
      ]
    },
    {
      "cell_type": "code",
      "source": [
        "cf_matrix = metrics.confusion_matrix(y_test2, bagging_tuning_pca_prediksi, labels=[1,0]).transpose()\n",
        "\n",
        "plt.figure(figsize=(15,8))\n",
        "ax = plt.subplot()\n",
        "sns.heatmap(cf_matrix, annot=True, fmt='g', cmap='Blues', ax=ax)\n",
        "ax.set_xlabel('Aktual')\n",
        "ax.set_ylabel('Prediksi')\n",
        "ax.set_title('Confusion Matrix Bagging non Tuning with PCA ') \n",
        "ax.xaxis.set_ticklabels(['1', '0'])\n",
        "ax.yaxis.set_ticklabels(['1', '0'])"
      ],
      "metadata": {
        "colab": {
          "base_uri": "https://localhost:8080/"
        },
        "id": "9tldf5otCOwP",
        "outputId": "2b1bed99-5aeb-48a2-de8b-d7a841b3e0b1"
      },
      "execution_count": null,
      "outputs": [
        {
          "output_type": "execute_result",
          "data": {
            "text/plain": [
              "[Text(0, 0.5, '1'), Text(0, 1.5, '0')]"
            ]
          },
          "metadata": {},
          "execution_count": 83
        },
        {
          "output_type": "display_data",
          "data": {
            "text/plain": [
              "<Figure size 1080x576 with 2 Axes>"
            ],
            "image/png": "[encoded data removed]"
          },
          "metadata": {
            "needs_background": "light"
          }
        }
      ]
    },
    {
      "cell_type": "markdown",
      "source": [
        "## Boosting"
      ],
      "metadata": {
        "id": "yr8LPep_4Uq2"
      }
    },
    {
      "cell_type": "markdown",
      "source": [
        "### Boosting non Tuning Without PCA"
      ],
      "metadata": {
        "id": "ahdR8OgE4Wtz"
      }
    },
    {
      "cell_type": "code",
      "source": [
        "boosting_1.fit(X_train1, y_train1)\n"
      ],
      "metadata": {
        "colab": {
          "base_uri": "https://localhost:8080/"
        },
        "id": "KDvgcd45CQPl",
        "outputId": "b879b27e-c3f6-4a8b-cefd-74891d5aaa4e"
      },
      "execution_count": null,
      "outputs": [
        {
          "output_type": "execute_result",
          "data": {
            "text/plain": [
              "AdaBoostClassifier(base_estimator=DecisionTreeClassifier(max_depth=1,\n",
              "                                                         random_state=1))"
            ]
          },
          "metadata": {},
          "execution_count": 100
        }
      ]
    },
    {
      "cell_type": "code",
      "source": [
        "boosting1_pca.fit(X_train2, y_train2)"
      ],
      "metadata": {
        "colab": {
          "base_uri": "https://localhost:8080/"
        },
        "id": "kP84VteGf77k",
        "outputId": "0d51f158-0671-4f61-a8e0-3866a9344731"
      },
      "execution_count": null,
      "outputs": [
        {
          "output_type": "execute_result",
          "data": {
            "text/plain": [
              "AdaBoostClassifier(base_estimator=DecisionTreeClassifier(max_depth=1,\n",
              "                                                         random_state=1))"
            ]
          },
          "metadata": {},
          "execution_count": 99
        }
      ]
    },
    {
      "cell_type": "markdown",
      "source": [
        "Hasil prediksi pada data train"
      ],
      "metadata": {
        "id": "NeoZJDZBCQ29"
      }
    },
    {
      "cell_type": "code",
      "source": [
        "boosting_nontuning_val_nonpca = boosting_1.predict(X_train1)\n",
        "print(\"Specificity  : \", metrics.recall_score(y_train1, boosting_nontuning_val_nonpca,pos_label=0))\n",
        "print(\"Sensitivity  : \", metrics.recall_score(y_train1, boosting_nontuning_val_nonpca,pos_label=1))\n",
        "print(\"Accuracy : \", metrics.accuracy_score(y_train1, boosting_nontuning_val_nonpca))"
      ],
      "metadata": {
        "colab": {
          "base_uri": "https://localhost:8080/"
        },
        "id": "5YKopbp6CSNk",
        "outputId": "295d4125-699f-47af-8c72-e8b18758c28a"
      },
      "execution_count": null,
      "outputs": [
        {
          "output_type": "stream",
          "name": "stdout",
          "text": [
            "Specificity  :  1.0\n",
            "Sensitivity  :  1.0\n",
            "Accuracy :  1.0\n"
          ]
        }
      ]
    },
    {
      "cell_type": "code",
      "source": [
        "cf_matrix = metrics.confusion_matrix(y_train1, boosting_nontuning_val_nonpca, labels=[1,0]).transpose()\n",
        "\n",
        "plt.figure(figsize=(15,8))\n",
        "ax = plt.subplot()\n",
        "sns.heatmap(cf_matrix, annot=True, fmt='g', cmap='Blues', ax=ax)\n",
        "ax.set_xlabel('Aktual')\n",
        "ax.set_ylabel('Prediksi')\n",
        "ax.set_title('Confusion Matrix Boosting non Tuning without PCA') \n",
        "ax.xaxis.set_ticklabels(['1', '0'])\n",
        "ax.yaxis.set_ticklabels(['1', '0'])"
      ],
      "metadata": {
        "colab": {
          "base_uri": "https://localhost:8080/",
          "height": 531
        },
        "id": "PmUFHJCJCSQC",
        "outputId": "c3649c2d-0349-4b0e-e798-120066ca8ab0"
      },
      "execution_count": null,
      "outputs": [
        {
          "output_type": "execute_result",
          "data": {
            "text/plain": [
              "[Text(0, 0.5, '1'), Text(0, 1.5, '0')]"
            ]
          },
          "metadata": {},
          "execution_count": 86
        },
        {
          "output_type": "display_data",
          "data": {
            "text/plain": [
              "<Figure size 1080x576 with 2 Axes>"
            ],
            "image/png": "[encoded data removed]"
          },
          "metadata": {
            "needs_background": "light"
          }
        }
      ]
    },
    {
      "cell_type": "markdown",
      "source": [
        "Hasil prediksi pada data test"
      ],
      "metadata": {
        "id": "W45shHlxCShT"
      }
    },
    {
      "cell_type": "code",
      "source": [
        "boosting_nontuning_prediksi_nonpca = boosting_1.predict(X_test1)\n",
        "print(\"Specificity  : \", metrics.recall_score(y_test1, boosting_nontuning_prediksi_nonpca,pos_label=0))\n",
        "print(\"Sensitivity  : \", metrics.recall_score(y_test1, boosting_nontuning_prediksi_nonpca,pos_label=1))\n",
        "print(\"Accuracy : \", metrics.accuracy_score(y_test1, boosting_nontuning_prediksi_nonpca))\n",
        "\n",
        "cf_matrix = metrics.confusion_matrix(y_test1,boosting_nontuning_prediksi_nonpca, labels=[1,0]).transpose()\n",
        "\n",
        "plt.figure(figsize=(15,8))\n",
        "ax = plt.subplot()\n",
        "sns.heatmap(cf_matrix, annot=True, fmt='g', cmap='Blues', ax=ax)\n",
        "ax.set_xlabel('Aktual')\n",
        "ax.set_ylabel('Prediksi')\n",
        "ax.set_title('Confusion Matrix Boosting non Tuning ') \n",
        "ax.xaxis.set_ticklabels(['1', '0'])\n",
        "ax.yaxis.set_ticklabels(['1', '0'])\n"
      ],
      "metadata": {
        "colab": {
          "base_uri": "https://localhost:8080/",
          "height": 586
        },
        "id": "8tAF4gKRCUZc",
        "outputId": "871e8e53-7059-4681-9eb5-5cf3a9b8e72b"
      },
      "execution_count": null,
      "outputs": [
        {
          "output_type": "stream",
          "name": "stdout",
          "text": [
            "Specificity  :  1.0\n",
            "Sensitivity  :  1.0\n",
            "Accuracy :  1.0\n"
          ]
        },
        {
          "output_type": "execute_result",
          "data": {
            "text/plain": [
              "[Text(0, 0.5, '1'), Text(0, 1.5, '0')]"
            ]
          },
          "metadata": {},
          "execution_count": 87
        },
        {
          "output_type": "display_data",
          "data": {
            "text/plain": [
              "<Figure size 1080x576 with 2 Axes>"
            ],
            "image/png": "[encoded data removed]"
          },
          "metadata": {
            "needs_background": "light"
          }
        }
      ]
    },
    {
      "cell_type": "markdown",
      "source": [
        "### Boosting non Tuning With PCA"
      ],
      "metadata": {
        "id": "LKqIwBr04Y2E"
      }
    },
    {
      "cell_type": "markdown",
      "source": [
        "Hasil prediksi pada data train"
      ],
      "metadata": {
        "id": "_DcH4GIECWBk"
      }
    },
    {
      "cell_type": "code",
      "source": [
        "boosting_nontuning_val_pca = boosting1_pca.predict(X_train2)\n",
        "print(\"Specificity  : \", metrics.recall_score(y_train2, boosting_nontuning_val_pca,pos_label=0))\n",
        "print(\"Sensitivity  : \", metrics.recall_score(y_train2, boosting_nontuning_val_pca,pos_label=1))\n",
        "print(\"Accuracy : \", metrics.accuracy_score(y_train2, boosting_nontuning_val_pca))"
      ],
      "metadata": {
        "colab": {
          "base_uri": "https://localhost:8080/"
        },
        "id": "N6EKZhw_CXZN",
        "outputId": "9c86c34a-4c5c-4b80-9d18-6a9b9fede0e3"
      },
      "execution_count": null,
      "outputs": [
        {
          "output_type": "stream",
          "name": "stdout",
          "text": [
            "Specificity  :  1.0\n",
            "Sensitivity  :  1.0\n",
            "Accuracy :  1.0\n"
          ]
        }
      ]
    },
    {
      "cell_type": "code",
      "source": [
        "cf_matrix = metrics.confusion_matrix(y_train2, boosting_nontuning_val_pca, labels=[1,0]).transpose()\n",
        "\n",
        "plt.figure(figsize=(15,8))\n",
        "ax = plt.subplot()\n",
        "sns.heatmap(cf_matrix, annot=True, fmt='g', cmap='Blues', ax=ax)\n",
        "ax.set_xlabel('Aktual')\n",
        "ax.set_ylabel('Prediksi')\n",
        "ax.set_title('Confusion Matrix Boosting non Tuning with PCA') \n",
        "ax.xaxis.set_ticklabels(['1', '0'])\n",
        "ax.yaxis.set_ticklabels(['1', '0'])"
      ],
      "metadata": {
        "colab": {
          "base_uri": "https://localhost:8080/"
        },
        "id": "2rGkalwYCXbw",
        "outputId": "e15a6815-3016-44d7-c2c6-85ea09a174fe"
      },
      "execution_count": null,
      "outputs": [
        {
          "output_type": "execute_result",
          "data": {
            "text/plain": [
              "[Text(0, 0.5, '1'), Text(0, 1.5, '0')]"
            ]
          },
          "metadata": {},
          "execution_count": 89
        },
        {
          "output_type": "display_data",
          "data": {
            "text/plain": [
              "<Figure size 1080x576 with 2 Axes>"
            ],
            "image/png": "[encoded data removed]"
          },
          "metadata": {
            "needs_background": "light"
          }
        }
      ]
    },
    {
      "cell_type": "markdown",
      "source": [
        "Hasil prediksi pada data test"
      ],
      "metadata": {
        "id": "jq-uZOQ2CXrO"
      }
    },
    {
      "cell_type": "code",
      "source": [
        "boosting_non_tuning_pca = boosting1_pca.predict(X_test2)\n",
        "print(\"Specificity  : \", metrics.recall_score(y_test2, boosting_non_tuning_pca,pos_label=0))\n",
        "print(\"Sensitivity  : \", metrics.recall_score(y_test2, boosting_non_tuning_pca,pos_label=1))\n",
        "print(\"Accuracy : \", metrics.accuracy_score(y_test2, boosting_non_tuning_pca))\n",
        "\n",
        "\n",
        "cf_matrix = metrics.confusion_matrix(y_test2, boosting_non_tuning_pca, labels=[1,0]).transpose()\n",
        "\n",
        "plt.figure(figsize=(15,8))\n",
        "ax = plt.subplot()\n",
        "sns.heatmap(cf_matrix, annot=True, fmt='g', cmap='Blues', ax=ax)\n",
        "ax.set_xlabel('Aktual')\n",
        "ax.set_ylabel('Prediksi')\n",
        "ax.set_title('Confusion Matrix Boosting non Tuning with PCA ') \n",
        "ax.xaxis.set_ticklabels(['1', '0'])\n",
        "ax.yaxis.set_ticklabels(['1', '0'])"
      ],
      "metadata": {
        "colab": {
          "base_uri": "https://localhost:8080/"
        },
        "id": "1g6CLi4VCY-5",
        "outputId": "3e8722c3-bc22-401f-f8f7-a7ef62cb2fa5"
      },
      "execution_count": null,
      "outputs": [
        {
          "output_type": "stream",
          "name": "stdout",
          "text": [
            "Specificity  :  1.0\n",
            "Sensitivity  :  1.0\n",
            "Accuracy :  1.0\n"
          ]
        },
        {
          "output_type": "execute_result",
          "data": {
            "text/plain": [
              "[Text(0, 0.5, '1'), Text(0, 1.5, '0')]"
            ]
          },
          "metadata": {},
          "execution_count": 90
        },
        {
          "output_type": "display_data",
          "data": {
            "text/plain": [
              "<Figure size 1080x576 with 2 Axes>"
            ],
            "image/png": "[encoded data removed]"
          },
          "metadata": {
            "needs_background": "light"
          }
        }
      ]
    },
    {
      "cell_type": "markdown",
      "source": [
        "###Boosting Tuning Without PCA"
      ],
      "metadata": {
        "id": "5A0ZnwlF4bTE"
      }
    },
    {
      "cell_type": "code",
      "source": [
        "boosting_tuning.fit(X_train1, y_train1)\n"
      ],
      "metadata": {
        "colab": {
          "base_uri": "https://localhost:8080/"
        },
        "id": "i8AivvOeCZ9v",
        "outputId": "00e5b6dc-171a-44e0-d06a-0cf004818ef1"
      },
      "execution_count": null,
      "outputs": [
        {
          "output_type": "execute_result",
          "data": {
            "text/plain": [
              "AdaBoostClassifier(base_estimator=DecisionTreeClassifier(max_depth=2,\n",
              "                                                         random_state=1),\n",
              "                   learning_rate=0.01, n_estimators=10)"
            ]
          },
          "metadata": {},
          "execution_count": 102
        }
      ]
    },
    {
      "cell_type": "code",
      "source": [
        "boosting_tuning_pca.fit(X_train2, y_train2)"
      ],
      "metadata": {
        "colab": {
          "base_uri": "https://localhost:8080/"
        },
        "id": "5HVZT5Y9KjQY",
        "outputId": "0d399052-d850-4513-ca84-4e6ac089a318"
      },
      "execution_count": null,
      "outputs": [
        {
          "output_type": "execute_result",
          "data": {
            "text/plain": [
              "AdaBoostClassifier(base_estimator=DecisionTreeClassifier(max_depth=2,\n",
              "                                                         random_state=1),\n",
              "                   learning_rate=0.01, n_estimators=10)"
            ]
          },
          "metadata": {},
          "execution_count": 104
        }
      ]
    },
    {
      "cell_type": "markdown",
      "source": [
        "Hasil prediksi pada data train"
      ],
      "metadata": {
        "id": "MSaDeH6pCaMn"
      }
    },
    {
      "cell_type": "code",
      "source": [
        "boosting_tuning_nonpca = boosting_tuning.predict(X_train1)\n",
        "print(\"Specificity  : \", metrics.recall_score(y_train1, boosting_tuning_nonpca,pos_label=0))\n",
        "print(\"Sensitivity  : \", metrics.recall_score(y_train1, boosting_tuning_nonpca,pos_label=1))\n",
        "print(\"Accuracy : \", metrics.accuracy_score(y_train1, boosting_tuning_nonpca))\n",
        "\n",
        "cf_matrix = metrics.confusion_matrix(y_train1, boosting_tuning_nonpca, labels=[1,0]).transpose()\n",
        "\n",
        "plt.figure(figsize=(15,8))\n",
        "ax = plt.subplot()\n",
        "sns.heatmap(cf_matrix, annot=True, fmt='g', cmap='Blues', ax=ax)\n",
        "ax.set_xlabel('Aktual')\n",
        "ax.set_ylabel('Prediksi')\n",
        "ax.set_title('Confusion Matrix Boosting Tuning without PCA') \n",
        "ax.xaxis.set_ticklabels(['1', '0'])\n",
        "ax.yaxis.set_ticklabels(['1', '0'])"
      ],
      "metadata": {
        "colab": {
          "base_uri": "https://localhost:8080/",
          "height": 586
        },
        "id": "c4APQhSwCb0C",
        "outputId": "886791b2-8ee0-44f2-9c81-c72949593f00"
      },
      "execution_count": null,
      "outputs": [
        {
          "output_type": "stream",
          "name": "stdout",
          "text": [
            "Specificity  :  1.0\n",
            "Sensitivity  :  1.0\n",
            "Accuracy :  1.0\n"
          ]
        },
        {
          "output_type": "execute_result",
          "data": {
            "text/plain": [
              "[Text(0, 0.5, '1'), Text(0, 1.5, '0')]"
            ]
          },
          "metadata": {},
          "execution_count": 93
        },
        {
          "output_type": "display_data",
          "data": {
            "text/plain": [
              "<Figure size 1080x576 with 2 Axes>"
            ],
            "image/png": "[encoded data removed]"
          },
          "metadata": {
            "needs_background": "light"
          }
        }
      ]
    },
    {
      "cell_type": "markdown",
      "source": [
        "Hasil prediksi pada data test"
      ],
      "metadata": {
        "id": "paSX29DDCcEo"
      }
    },
    {
      "cell_type": "code",
      "source": [
        "boosting_tuning_prediksi_nonpca = boosting_tuning.predict(X_test1)\n",
        "print(\"Specificity  : \", metrics.recall_score(y_test1, boosting_tuning_prediksi_nonpca,pos_label=0))\n",
        "print(\"Sensitivity  : \", metrics.recall_score(y_test1, boosting_tuning_prediksi_nonpca,pos_label=1))\n",
        "print(\"Accuracy : \", metrics.accuracy_score(y_test1, boosting_tuning_prediksi_nonpca))\n",
        "\n",
        "cf_matrix = metrics.confusion_matrix(y_test1,boosting_tuning_prediksi_nonpca, labels=[1,0]).transpose()\n",
        "\n",
        "plt.figure(figsize=(15,8))\n",
        "ax = plt.subplot()\n",
        "sns.heatmap(cf_matrix, annot=True, fmt='g', cmap='Blues', ax=ax)\n",
        "ax.set_xlabel('Aktual')\n",
        "ax.set_ylabel('Prediksi')\n",
        "ax.set_title('Confusion Matrix Boosting non Tuning Without PCA') \n",
        "ax.xaxis.set_ticklabels(['1', '0'])\n",
        "ax.yaxis.set_ticklabels(['1', '0'])"
      ],
      "metadata": {
        "colab": {
          "base_uri": "https://localhost:8080/",
          "height": 586
        },
        "id": "2PXtZ-wsCd5F",
        "outputId": "0e24bd4c-c861-47d7-8384-61f3ef993bcb"
      },
      "execution_count": null,
      "outputs": [
        {
          "output_type": "stream",
          "name": "stdout",
          "text": [
            "Specificity  :  1.0\n",
            "Sensitivity  :  1.0\n",
            "Accuracy :  1.0\n"
          ]
        },
        {
          "output_type": "execute_result",
          "data": {
            "text/plain": [
              "[Text(0, 0.5, '1'), Text(0, 1.5, '0')]"
            ]
          },
          "metadata": {},
          "execution_count": 94
        },
        {
          "output_type": "display_data",
          "data": {
            "text/plain": [
              "<Figure size 1080x576 with 2 Axes>"
            ],
            "image/png": "[encoded data removed]"
          },
          "metadata": {
            "needs_background": "light"
          }
        }
      ]
    },
    {
      "cell_type": "code",
      "source": [],
      "metadata": {
        "id": "IXIz4jddCd76"
      },
      "execution_count": null,
      "outputs": []
    },
    {
      "cell_type": "markdown",
      "source": [
        "###Boosting Tuning With PCA"
      ],
      "metadata": {
        "id": "0kSHmJBs4dBU"
      }
    },
    {
      "cell_type": "markdown",
      "source": [
        "Hasil prediksi pada data train"
      ],
      "metadata": {
        "id": "9QCpDSkICesx"
      }
    },
    {
      "cell_type": "code",
      "source": [
        "boosting_tuning_pca = boosting_tuning_pca.predict(X_train2)\n",
        "print(\"Specificity  : \", metrics.recall_score(y_train2, boosting_tuning_pca,pos_label=0))\n",
        "print(\"Sensitivity  : \", metrics.recall_score(y_train2, boosting_tuning_pca,pos_label=1))\n",
        "print(\"Accuracy : \", metrics.accuracy_score(y_train2, boosting_tuning_pca))\n",
        "\n",
        "cf_matrix = metrics.confusion_matrix(y_train2, boosting_tuning_pca, labels=[1,0]).transpose()\n",
        "\n",
        "plt.figure(figsize=(15,8))\n",
        "ax = plt.subplot()\n",
        "sns.heatmap(cf_matrix, annot=True, fmt='g', cmap='Blues', ax=ax)\n",
        "ax.set_xlabel('Aktual')\n",
        "ax.set_ylabel('Prediksi')\n",
        "ax.set_title('Confusion Matrix Boosting Tuning with PCA') \n",
        "ax.xaxis.set_ticklabels(['1', '0'])\n",
        "ax.yaxis.set_ticklabels(['1', '0'])"
      ],
      "metadata": {
        "colab": {
          "base_uri": "https://localhost:8080/"
        },
        "id": "VtPD1y9uCjaw",
        "outputId": "e42461c4-aa93-45b6-b7fe-af75e753f049"
      },
      "execution_count": null,
      "outputs": [
        {
          "output_type": "stream",
          "name": "stdout",
          "text": [
            "Specificity  :  1.0\n",
            "Sensitivity  :  1.0\n",
            "Accuracy :  1.0\n"
          ]
        },
        {
          "output_type": "execute_result",
          "data": {
            "text/plain": [
              "[Text(0, 0.5, '1'), Text(0, 1.5, '0')]"
            ]
          },
          "metadata": {},
          "execution_count": 95
        },
        {
          "output_type": "display_data",
          "data": {
            "text/plain": [
              "<Figure size 1080x576 with 2 Axes>"
            ],
            "image/png": "[encoded data removed]"
          },
          "metadata": {
            "needs_background": "light"
          }
        }
      ]
    },
    {
      "cell_type": "markdown",
      "source": [
        "Hasil prediksi pada data test"
      ],
      "metadata": {
        "id": "vRSHzGy1Cj82"
      }
    },
    {
      "cell_type": "code",
      "source": [
        "boosting_tuning_prediksi_pca = boosting_tuning_pca.predict(X_test2)\n",
        "print(\"Specificity  : \", metrics.recall_score(y_test2, boosting_tuning_prediksi_pca,pos_label=0))\n",
        "print(\"Sensitivity  : \", metrics.recall_score(y_test2, boosting_tuning_prediksi_pca,pos_label=1))\n",
        "print(\"Accuracy : \", metrics.accuracy_score(y_test2, boosting_tuning_prediksi_pca))\n",
        "\n"
      ],
      "metadata": {
        "colab": {
          "base_uri": "https://localhost:8080/"
        },
        "id": "PbpaeDK-CmWz",
        "outputId": "1d7ab4f8-0774-4032-e63b-a0df4fb80b06"
      },
      "execution_count": null,
      "outputs": [
        {
          "output_type": "stream",
          "name": "stdout",
          "text": [
            "Specificity  :  1.0\n",
            "Sensitivity  :  1.0\n",
            "Accuracy :  1.0\n"
          ]
        }
      ]
    },
    {
      "cell_type": "code",
      "source": [
        "cf_matrix = metrics.confusion_matrix(y_test2, boosting_tuning_prediksi_pca, labels=[1,0]).transpose()\n",
        "\n",
        "plt.figure(figsize=(15,8))\n",
        "ax = plt.subplot()\n",
        "sns.heatmap(cf_matrix, annot=True, fmt='g', cmap='Blues', ax=ax)\n",
        "ax.set_xlabel('Aktual')\n",
        "ax.set_ylabel('Prediksi')\n",
        "ax.set_title('Confusion Matrix Boosting Tuning with PCA') \n",
        "ax.xaxis.set_ticklabels(['1', '0'])\n",
        "ax.yaxis.set_ticklabels(['1', '0'])"
      ],
      "metadata": {
        "colab": {
          "base_uri": "https://localhost:8080/"
        },
        "id": "Mt8OYtP5CmZP",
        "outputId": "a7a4507d-f8b3-4610-c7a5-1a69e3edda80"
      },
      "execution_count": null,
      "outputs": [
        {
          "output_type": "execute_result",
          "data": {
            "text/plain": [
              "[Text(0, 0.5, '1'), Text(0, 1.5, '0')]"
            ]
          },
          "metadata": {},
          "execution_count": 106
        },
        {
          "output_type": "display_data",
          "data": {
            "text/plain": [
              "<Figure size 1080x576 with 2 Axes>"
            ],
            "image/png": "[encoded data removed]"
          },
          "metadata": {
            "needs_background": "light"
          }
        }
      ]
    },
    {
      "cell_type": "markdown",
      "source": [
        "## Stacking"
      ],
      "metadata": {
        "id": "5TQEKJg44TDw"
      }
    },
    {
      "cell_type": "code",
      "source": [
        "stacking_1.fit(X_train1,y_train1)"
      ],
      "metadata": {
        "id": "ReV3CA8yNra6",
        "colab": {
          "base_uri": "https://localhost:8080/"
        },
        "outputId": "c36ee2cd-2206-4027-8e9a-b64d59c08d4e"
      },
      "execution_count": null,
      "outputs": [
        {
          "output_type": "execute_result",
          "data": {
            "text/plain": [
              "StackingClassifier(estimators=[('tree',\n",
              "                                DecisionTreeClassifier(max_depth=1,\n",
              "                                                       random_state=1)),\n",
              "                               ('svm', SVC(probability=True, random_state=1))])"
            ]
          },
          "metadata": {},
          "execution_count": 107
        }
      ]
    },
    {
      "cell_type": "code",
      "source": [
        "stacking1_pca.fit(X_train2,y_train2)"
      ],
      "metadata": {
        "id": "M9CA2b4NNxeq",
        "colab": {
          "base_uri": "https://localhost:8080/"
        },
        "outputId": "bc4f32e4-4980-4881-a799-a31928e4a199"
      },
      "execution_count": null,
      "outputs": [
        {
          "output_type": "execute_result",
          "data": {
            "text/plain": [
              "StackingClassifier(estimators=[('tree',\n",
              "                                DecisionTreeClassifier(max_depth=1,\n",
              "                                                       random_state=1)),\n",
              "                               ('svm', SVC(probability=True, random_state=1))])"
            ]
          },
          "metadata": {},
          "execution_count": 108
        }
      ]
    },
    {
      "cell_type": "code",
      "source": [
        "stack_tuning.fit(X_train1, y_train1)"
      ],
      "metadata": {
        "id": "wsHuOsgQCrcU",
        "colab": {
          "base_uri": "https://localhost:8080/"
        },
        "outputId": "ee5de4ec-07f4-4c99-a1e9-24913891a367"
      },
      "execution_count": null,
      "outputs": [
        {
          "output_type": "execute_result",
          "data": {
            "text/plain": [
              "StackingClassifier(estimators=[('tree',\n",
              "                                DecisionTreeClassifier(max_depth=2,\n",
              "                                                       random_state=1)),\n",
              "                               ('svm',\n",
              "                                SVC(C=0.1, gamma=1, probability=True,\n",
              "                                    random_state=1))],\n",
              "                   final_estimator=DecisionTreeClassifier(), n_jobs=1,\n",
              "                   stack_method='predict_proba')"
            ]
          },
          "metadata": {},
          "execution_count": 109
        }
      ]
    },
    {
      "cell_type": "code",
      "source": [
        "stack_tuning_2.fit(X_train2, y_train2) #menggunakan PCA"
      ],
      "metadata": {
        "id": "hW2qgQklNfZ5",
        "colab": {
          "base_uri": "https://localhost:8080/"
        },
        "outputId": "e4fb1c9b-ea68-4583-d1c7-6ecddc38c71e"
      },
      "execution_count": null,
      "outputs": [
        {
          "output_type": "execute_result",
          "data": {
            "text/plain": [
              "StackingClassifier(estimators=[('tree',\n",
              "                                DecisionTreeClassifier(max_depth=2,\n",
              "                                                       random_state=1)),\n",
              "                               ('svm',\n",
              "                                SVC(C=0.1, gamma=10, probability=True,\n",
              "                                    random_state=1))],\n",
              "                   final_estimator=DecisionTreeClassifier(), n_jobs=1,\n",
              "                   stack_method='predict_proba')"
            ]
          },
          "metadata": {},
          "execution_count": 110
        }
      ]
    },
    {
      "cell_type": "markdown",
      "source": [
        "### Stacking non Tuning Without PCA"
      ],
      "metadata": {
        "id": "pj93-VTq4ovn"
      }
    },
    {
      "cell_type": "markdown",
      "source": [
        "Hasil prediksi pada data train"
      ],
      "metadata": {
        "id": "dnz9A49lCrlh"
      }
    },
    {
      "cell_type": "code",
      "source": [
        "stack_nontuning_nonpca = stacking_1.predict(X_train1)\n",
        "print(\"Specificity  : \", metrics.recall_score(y_train1, stack_nontuning_nonpca,pos_label=0))\n",
        "print(\"Sensitivity  : \", metrics.recall_score(y_train1, stack_nontuning_nonpca,pos_label=1))\n",
        "print(\"Accuracy : \", metrics.accuracy_score(y_train1, stack_nontuning_nonpca))\n",
        "\n",
        "cf_matrix = metrics.confusion_matrix(y_train1, stack_nontuning_nonpca, labels=[1,0]).transpose()\n",
        "\n",
        "plt.figure(figsize=(15,8))\n",
        "ax = plt.subplot()\n",
        "sns.heatmap(cf_matrix, annot=True, fmt='g', cmap='Blues', ax=ax)\n",
        "ax.set_xlabel('Aktual')\n",
        "ax.set_ylabel('Prediksi')\n",
        "ax.set_title('Confusion Matrix Stacking non Tuning without PCA') \n",
        "ax.xaxis.set_ticklabels(['1', '0'])\n",
        "ax.yaxis.set_ticklabels(['1', '0'])"
      ],
      "metadata": {
        "colab": {
          "base_uri": "https://localhost:8080/",
          "height": 586
        },
        "id": "0Wj3vJTQCutI",
        "outputId": "9b2a5a0e-4ef1-4a4c-bc83-030b99d2b2da"
      },
      "execution_count": null,
      "outputs": [
        {
          "output_type": "stream",
          "name": "stdout",
          "text": [
            "Specificity  :  0.9948979591836735\n",
            "Sensitivity  :  0.9948979591836735\n",
            "Accuracy :  0.9948979591836735\n"
          ]
        },
        {
          "output_type": "execute_result",
          "data": {
            "text/plain": [
              "[Text(0, 0.5, '1'), Text(0, 1.5, '0')]"
            ]
          },
          "metadata": {},
          "execution_count": 111
        },
        {
          "output_type": "display_data",
          "data": {
            "text/plain": [
              "<Figure size 1080x576 with 2 Axes>"
            ],
            "image/png": "[encoded data removed]"
          },
          "metadata": {
            "needs_background": "light"
          }
        }
      ]
    },
    {
      "cell_type": "code",
      "source": [],
      "metadata": {
        "id": "n0OHxmB5Cuv7"
      },
      "execution_count": null,
      "outputs": []
    },
    {
      "cell_type": "markdown",
      "source": [
        "Hasil prediksi pada data test"
      ],
      "metadata": {
        "id": "CX6y7Ic6CvFM"
      }
    },
    {
      "cell_type": "code",
      "source": [
        "stacking_nontuning_nonpca_prediksi = stacking_1.predict(X_test1)\n",
        "print(\"Specificity  : \", metrics.recall_score(y_test1, stacking_nontuning_nonpca_prediksi,pos_label=0))\n",
        "print(\"Sensitivity  : \", metrics.recall_score(y_test1, stacking_nontuning_nonpca_prediksi,pos_label=1))\n",
        "print(\"Accuracy : \", metrics.accuracy_score(y_test1, stacking_nontuning_nonpca_prediksi))\n",
        "\n",
        "cf_matrix = metrics.confusion_matrix(y_test1,stacking_nontuning_nonpca_prediksi, labels=[1,0]).transpose()\n",
        "\n",
        "plt.figure(figsize=(15,8))\n",
        "ax = plt.subplot()\n",
        "sns.heatmap(cf_matrix, annot=True, fmt='g', cmap='Blues', ax=ax)\n",
        "ax.set_xlabel('Aktual')\n",
        "ax.set_ylabel('Prediksi')\n",
        "ax.set_title('Confusion Matrix Stacking non Tuning Without PCA') \n",
        "ax.xaxis.set_ticklabels(['1', '0'])\n",
        "ax.yaxis.set_ticklabels(['1', '0'])"
      ],
      "metadata": {
        "colab": {
          "base_uri": "https://localhost:8080/",
          "height": 586
        },
        "id": "ZYBK08JrCx--",
        "outputId": "986e808f-b853-446a-8384-3b6259ca3c9f"
      },
      "execution_count": null,
      "outputs": [
        {
          "output_type": "stream",
          "name": "stdout",
          "text": [
            "Specificity  :  0.9761904761904762\n",
            "Sensitivity  :  1.0\n",
            "Accuracy :  0.9880952380952381\n"
          ]
        },
        {
          "output_type": "execute_result",
          "data": {
            "text/plain": [
              "[Text(0, 0.5, '1'), Text(0, 1.5, '0')]"
            ]
          },
          "metadata": {},
          "execution_count": 112
        },
        {
          "output_type": "display_data",
          "data": {
            "text/plain": [
              "<Figure size 1080x576 with 2 Axes>"
            ],
            "image/png": "[encoded data removed]"
          },
          "metadata": {
            "needs_background": "light"
          }
        }
      ]
    },
    {
      "cell_type": "code",
      "source": [],
      "metadata": {
        "id": "F9Ib0WyxCyBu"
      },
      "execution_count": null,
      "outputs": []
    },
    {
      "cell_type": "markdown",
      "source": [
        "### Stacking non Tuning With PCA"
      ],
      "metadata": {
        "id": "VR9zyBqB4wKZ"
      }
    },
    {
      "cell_type": "code",
      "source": [],
      "metadata": {
        "id": "hXn7pktCC20m"
      },
      "execution_count": null,
      "outputs": []
    },
    {
      "cell_type": "markdown",
      "source": [
        "Hasil prediksi pada data train"
      ],
      "metadata": {
        "id": "ZEV-CF_kC28L"
      }
    },
    {
      "cell_type": "code",
      "source": [
        "stacking_nontuning_pca = stacking1_pca.predict(X_train2)\n",
        "print(\"Specificity  : \", metrics.recall_score(y_train2, stacking_nontuning_pca,pos_label=0))\n",
        "print(\"Sensitivity  : \", metrics.recall_score(y_train2, stacking_nontuning_pca,pos_label=1))\n",
        "print(\"Accuracy : \", metrics.accuracy_score(y_train2, stacking_nontuning_pca))\n",
        "\n",
        "cf_matrix = metrics.confusion_matrix(y_train2, stacking_nontuning_pca, labels=[1,0]).transpose()\n",
        "\n",
        "plt.figure(figsize=(15,8))\n",
        "ax = plt.subplot()\n",
        "sns.heatmap(cf_matrix, annot=True, fmt='g', cmap='Blues', ax=ax)\n",
        "ax.set_xlabel('Aktual')\n",
        "ax.set_ylabel('Prediksi')\n",
        "ax.set_title('Confusion Matrix Stacking non tuning with PCA') \n",
        "ax.xaxis.set_ticklabels(['1', '0'])\n",
        "ax.yaxis.set_ticklabels(['1', '0'])"
      ],
      "metadata": {
        "colab": {
          "base_uri": "https://localhost:8080/"
        },
        "id": "EY3wRgQIC4u1",
        "outputId": "3b6e848d-460c-46c9-8029-df454a393c2e"
      },
      "execution_count": null,
      "outputs": [
        {
          "output_type": "stream",
          "name": "stdout",
          "text": [
            "Specificity  :  0.9846938775510204\n",
            "Sensitivity  :  0.9948979591836735\n",
            "Accuracy :  0.9897959183673469\n"
          ]
        },
        {
          "output_type": "execute_result",
          "data": {
            "text/plain": [
              "[Text(0, 0.5, '1'), Text(0, 1.5, '0')]"
            ]
          },
          "metadata": {},
          "execution_count": 113
        },
        {
          "output_type": "display_data",
          "data": {
            "text/plain": [
              "<Figure size 1080x576 with 2 Axes>"
            ],
            "image/png": "[encoded data removed]"
          },
          "metadata": {
            "needs_background": "light"
          }
        }
      ]
    },
    {
      "cell_type": "code",
      "source": [],
      "metadata": {
        "id": "nSUOH7v-C4xA"
      },
      "execution_count": null,
      "outputs": []
    },
    {
      "cell_type": "markdown",
      "source": [
        "Hasil prediksi pada data test"
      ],
      "metadata": {
        "id": "I5IaftAuC5Bl"
      }
    },
    {
      "cell_type": "code",
      "source": [
        "stacking_nontuning_pca_prediksi = stacking1_pca.predict(X_test2)\n",
        "print(\"Specificity  : \", metrics.recall_score(y_test2, stacking_nontuning_pca_prediksi,pos_label=0))\n",
        "print(\"Sensitivity  : \", metrics.recall_score(y_test2, stacking_nontuning_pca_prediksi,pos_label=1))\n",
        "print(\"Accuracy : \", metrics.accuracy_score(y_test2, stacking_nontuning_pca_prediksi))\n",
        "\n",
        "\n",
        "cf_matrix = metrics.confusion_matrix(y_test2, stacking_nontuning_pca_prediksi, labels=[1,0]).transpose()\n",
        "\n",
        "plt.figure(figsize=(15,8))\n",
        "ax = plt.subplot()\n",
        "sns.heatmap(cf_matrix, annot=True, fmt='g', cmap='Blues', ax=ax)\n",
        "ax.set_xlabel('Aktual')\n",
        "ax.set_ylabel('Prediksi')\n",
        "ax.set_title('Confusion Matrix Stacking non Tuning with PCA ') \n",
        "ax.xaxis.set_ticklabels(['1', '0'])\n",
        "ax.yaxis.set_ticklabels(['1', '0'])"
      ],
      "metadata": {
        "colab": {
          "base_uri": "https://localhost:8080/"
        },
        "id": "xLKX07UsC7MQ",
        "outputId": "f2eee969-5093-4b35-ec49-a4b13495d776"
      },
      "execution_count": null,
      "outputs": [
        {
          "output_type": "stream",
          "name": "stdout",
          "text": [
            "Specificity  :  0.9642857142857143\n",
            "Sensitivity  :  0.9880952380952381\n",
            "Accuracy :  0.9761904761904762\n"
          ]
        },
        {
          "output_type": "execute_result",
          "data": {
            "text/plain": [
              "[Text(0, 0.5, '1'), Text(0, 1.5, '0')]"
            ]
          },
          "metadata": {},
          "execution_count": 114
        },
        {
          "output_type": "display_data",
          "data": {
            "text/plain": [
              "<Figure size 1080x576 with 2 Axes>"
            ],
            "image/png": "[encoded data removed]"
          },
          "metadata": {
            "needs_background": "light"
          }
        }
      ]
    },
    {
      "cell_type": "code",
      "source": [],
      "metadata": {
        "id": "4sGCZCVNC7Om"
      },
      "execution_count": null,
      "outputs": []
    },
    {
      "cell_type": "markdown",
      "source": [
        "### Stacking Tuning Without PCA"
      ],
      "metadata": {
        "id": "pI2GgRvx4yJD"
      }
    },
    {
      "cell_type": "code",
      "source": [],
      "metadata": {
        "id": "F5Prxj0uC7zA"
      },
      "execution_count": null,
      "outputs": []
    },
    {
      "cell_type": "markdown",
      "source": [
        "Hasil prediksi pada data train"
      ],
      "metadata": {
        "id": "qtCzsNwSC8dn"
      }
    },
    {
      "cell_type": "code",
      "source": [
        "stack_tuning_nonpca = stack_tuning.predict(X_train1)\n",
        "print(\"Specificity  : \", metrics.recall_score(y_train1, stack_tuning_nonpca,pos_label=0))\n",
        "print(\"Sensitivity  : \", metrics.recall_score(y_train1, stack_tuning_nonpca,pos_label=1))\n",
        "print(\"Accuracy : \", metrics.accuracy_score(y_train1, stack_tuning_nonpca))\n",
        "\n",
        "cf_matrix = metrics.confusion_matrix(y_train1, stack_tuning_nonpca, labels=[1,0]).transpose()\n",
        "\n",
        "plt.figure(figsize=(15,8))\n",
        "ax = plt.subplot()\n",
        "sns.heatmap(cf_matrix, annot=True, fmt='g', cmap='Blues', ax=ax)\n",
        "ax.set_xlabel('Aktual')\n",
        "ax.set_ylabel('Prediksi')\n",
        "ax.set_title('Confusion Matrix Stacking Tuning without PCA') \n",
        "ax.xaxis.set_ticklabels(['1', '0'])\n",
        "ax.yaxis.set_ticklabels(['1', '0'])"
      ],
      "metadata": {
        "colab": {
          "base_uri": "https://localhost:8080/",
          "height": 586
        },
        "id": "MEI93IXTC9y5",
        "outputId": "791391d6-2808-45e2-b635-ea95fe63a58a"
      },
      "execution_count": null,
      "outputs": [
        {
          "output_type": "stream",
          "name": "stdout",
          "text": [
            "Specificity  :  1.0\n",
            "Sensitivity  :  1.0\n",
            "Accuracy :  1.0\n"
          ]
        },
        {
          "output_type": "execute_result",
          "data": {
            "text/plain": [
              "[Text(0, 0.5, '1'), Text(0, 1.5, '0')]"
            ]
          },
          "metadata": {},
          "execution_count": 115
        },
        {
          "output_type": "display_data",
          "data": {
            "text/plain": [
              "<Figure size 1080x576 with 2 Axes>"
            ],
            "image/png": "[encoded data removed]"
          },
          "metadata": {
            "needs_background": "light"
          }
        }
      ]
    },
    {
      "cell_type": "code",
      "source": [],
      "metadata": {
        "id": "zoCRNH39C91R"
      },
      "execution_count": null,
      "outputs": []
    },
    {
      "cell_type": "markdown",
      "source": [
        "Hasil prediksi pada data test"
      ],
      "metadata": {
        "id": "K2T2a9AZC-fN"
      }
    },
    {
      "cell_type": "code",
      "source": [
        "stack_tuning_nonpca_prediksi = stack_tuning.predict(X_test1)\n",
        "print(\"Specificity  : \", metrics.recall_score(y_test1, stack_tuning_nonpca_prediksi,pos_label=0))\n",
        "print(\"Sensitivity  : \", metrics.recall_score(y_test1, stack_tuning_nonpca_prediksi,pos_label=1))\n",
        "print(\"Accuracy : \", metrics.accuracy_score(y_test1, stack_tuning_nonpca_prediksi))\n",
        "\n",
        "cf_matrix = metrics.confusion_matrix(y_test1,stack_tuning_nonpca_prediksi, labels=[1,0]).transpose()\n",
        "\n",
        "plt.figure(figsize=(15,8))\n",
        "ax = plt.subplot()\n",
        "sns.heatmap(cf_matrix, annot=True, fmt='g', cmap='Blues', ax=ax)\n",
        "ax.set_xlabel('Aktual')\n",
        "ax.set_ylabel('Prediksi')\n",
        "ax.set_title('Confusion Matrix Stacking Tuning Without PCA') \n",
        "ax.xaxis.set_ticklabels(['1', '0'])\n",
        "ax.yaxis.set_ticklabels(['1', '0'])"
      ],
      "metadata": {
        "colab": {
          "base_uri": "https://localhost:8080/",
          "height": 586
        },
        "id": "w1w6lVVWC_1D",
        "outputId": "5f2f4bb0-1062-487d-ad93-497f38b68f67"
      },
      "execution_count": null,
      "outputs": [
        {
          "output_type": "stream",
          "name": "stdout",
          "text": [
            "Specificity  :  1.0\n",
            "Sensitivity  :  1.0\n",
            "Accuracy :  1.0\n"
          ]
        },
        {
          "output_type": "execute_result",
          "data": {
            "text/plain": [
              "[Text(0, 0.5, '1'), Text(0, 1.5, '0')]"
            ]
          },
          "metadata": {},
          "execution_count": 116
        },
        {
          "output_type": "display_data",
          "data": {
            "text/plain": [
              "<Figure size 1080x576 with 2 Axes>"
            ],
            "image/png": "[encoded data removed]"
          },
          "metadata": {
            "needs_background": "light"
          }
        }
      ]
    },
    {
      "cell_type": "code",
      "source": [],
      "metadata": {
        "id": "OsmoIxoVC_3b"
      },
      "execution_count": null,
      "outputs": []
    },
    {
      "cell_type": "markdown",
      "source": [
        "### Stacking Tuning With PCA"
      ],
      "metadata": {
        "id": "MdLsioTn40RD"
      }
    },
    {
      "cell_type": "code",
      "source": [],
      "metadata": {
        "id": "4hAPbd_1DARZ"
      },
      "execution_count": null,
      "outputs": []
    },
    {
      "cell_type": "markdown",
      "source": [
        "Hasil prediksi pada data train"
      ],
      "metadata": {
        "id": "kQrCnHXGDAYs"
      }
    },
    {
      "cell_type": "code",
      "source": [
        "stacking_tuning_pca = stack_tuning_2.predict(X_train2)\n",
        "print(\"Specificity  : \", metrics.recall_score(y_train2, stacking_tuning_pca,pos_label=0))\n",
        "print(\"Sensitivity  : \", metrics.recall_score(y_train2, stacking_tuning_pca,pos_label=1))\n",
        "print(\"Accuracy : \", metrics.accuracy_score(y_train2, stacking_tuning_pca))\n",
        "\n",
        "cf_matrix = metrics.confusion_matrix(y_train2, stacking_tuning_pca, labels=[1,0]).transpose()\n",
        "\n",
        "plt.figure(figsize=(15,8))\n",
        "ax = plt.subplot()\n",
        "sns.heatmap(cf_matrix, annot=True, fmt='g', cmap='Blues', ax=ax)\n",
        "ax.set_xlabel('Aktual')\n",
        "ax.set_ylabel('Prediksi')\n",
        "ax.set_title('Confusion Matrix Stacking tuning with PCA') \n",
        "ax.xaxis.set_ticklabels(['1', '0'])\n",
        "ax.yaxis.set_ticklabels(['1', '0'])"
      ],
      "metadata": {
        "colab": {
          "base_uri": "https://localhost:8080/",
          "height": 586
        },
        "id": "sQT3xnvRDCfW",
        "outputId": "42007892-c714-4c30-b51c-c391d1883b43"
      },
      "execution_count": null,
      "outputs": [
        {
          "output_type": "stream",
          "name": "stdout",
          "text": [
            "Specificity  :  1.0\n",
            "Sensitivity  :  1.0\n",
            "Accuracy :  1.0\n"
          ]
        },
        {
          "output_type": "execute_result",
          "data": {
            "text/plain": [
              "[Text(0, 0.5, '1'), Text(0, 1.5, '0')]"
            ]
          },
          "metadata": {},
          "execution_count": 117
        },
        {
          "output_type": "display_data",
          "data": {
            "text/plain": [
              "<Figure size 1080x576 with 2 Axes>"
            ],
            "image/png": "[encoded data removed]"
          },
          "metadata": {
            "needs_background": "light"
          }
        }
      ]
    },
    {
      "cell_type": "code",
      "source": [],
      "metadata": {
        "id": "9xF1wpwmDChz"
      },
      "execution_count": null,
      "outputs": []
    },
    {
      "cell_type": "markdown",
      "source": [
        "Hasil prediksi pada data test"
      ],
      "metadata": {
        "id": "9Vrpzg3zDC_y"
      }
    },
    {
      "cell_type": "code",
      "source": [
        "stack_tuning_pca_prediksi = stack_tuning_2.predict(X_test2)\n",
        "print(\"Specificity  : \", metrics.recall_score(y_test2, stack_tuning_pca_prediksi,pos_label=0))\n",
        "print(\"Sensitivity  : \", metrics.recall_score(y_test2, stack_tuning_pca_prediksi,pos_label=1))\n",
        "print(\"Accuracy : \", metrics.accuracy_score(y_test2, stack_tuning_pca_prediksi))\n",
        "\n",
        "\n",
        "cf_matrix = metrics.confusion_matrix(y_test2, stack_tuning_pca_prediksi, labels=[1,0]).transpose()\n",
        "\n",
        "plt.figure(figsize=(15,8))\n",
        "ax = plt.subplot()\n",
        "sns.heatmap(cf_matrix, annot=True, fmt='g', cmap='Blues', ax=ax)\n",
        "ax.set_xlabel('Aktual')\n",
        "ax.set_ylabel('Prediksi')\n",
        "ax.set_title('Confusion Matrix Stacking Tuning with PCA ') \n",
        "ax.xaxis.set_ticklabels(['1', '0'])\n",
        "ax.yaxis.set_ticklabels(['1', '0'])"
      ],
      "metadata": {
        "colab": {
          "base_uri": "https://localhost:8080/",
          "height": 586
        },
        "id": "mDnH40PEDEgg",
        "outputId": "54046161-e20c-407e-cbb6-2030361616a2"
      },
      "execution_count": null,
      "outputs": [
        {
          "output_type": "stream",
          "name": "stdout",
          "text": [
            "Specificity  :  1.0\n",
            "Sensitivity  :  1.0\n",
            "Accuracy :  1.0\n"
          ]
        },
        {
          "output_type": "execute_result",
          "data": {
            "text/plain": [
              "[Text(0, 0.5, '1'), Text(0, 1.5, '0')]"
            ]
          },
          "metadata": {},
          "execution_count": 118
        },
        {
          "output_type": "display_data",
          "data": {
            "text/plain": [
              "<Figure size 1080x576 with 2 Axes>"
            ],
            "image/png": "[encoded data removed]"
          },
          "metadata": {
            "needs_background": "light"
          }
        }
      ]
    },
    {
      "cell_type": "code",
      "source": [],
      "metadata": {
        "id": "H2S-lchsDEi0"
      },
      "execution_count": null,
      "outputs": []
    },
    {
      "cell_type": "markdown",
      "source": [
        "# Save Model"
      ],
      "metadata": {
        "id": "C03zg5aggibH"
      }
    },
    {
      "cell_type": "code",
      "source": [
        "import joblib\n",
        "from joblib import dump, load"
      ],
      "metadata": {
        "id": "xrNlmpdaglf2"
      },
      "execution_count": null,
      "outputs": []
    },
    {
      "cell_type": "code",
      "source": [
        "def save_model(model, path):\n",
        "  \n",
        "  joblib.dump(model, path) "
      ],
      "metadata": {
        "id": "7XmCnUBTgnR1"
      },
      "execution_count": null,
      "outputs": []
    },
    {
      "cell_type": "code",
      "source": [],
      "metadata": {
        "colab": {
          "base_uri": "https://localhost:8080/"
        },
        "id": "DEBGVzZDh9_n",
        "outputId": "668eb736-65ad-494a-9581-177292bdd7a2"
      },
      "execution_count": null,
      "outputs": [
        {
          "output_type": "execute_result",
          "data": {
            "text/plain": [
              "AdaBoostClassifier(base_estimator=DecisionTreeClassifier(max_depth=2,\n",
              "                                                         random_state=1),\n",
              "                   learning_rate=0.01, n_estimators=10)"
            ]
          },
          "metadata": {},
          "execution_count": 123
        }
      ]
    },
    {
      "cell_type": "code",
      "source": [
        "#Non PCA Default\n",
        "save_model(bagging_1, \"/content/drive/MyDrive/Skripsi/Model/bagging_noPCA_default.pkl\")\n",
        "save_model(boosting_1, \"/content/drive/MyDrive/Skripsi/Model/boosting_noPCA_default.pkl\")\n",
        "save_model(stacking_1, \"/content/drive/MyDrive/Skripsi/Model/stacking_noPCA_default.pkl\")\n",
        "#Non PCA Tuned\n",
        "save_model(bagging_tuning, \"/content/drive/MyDrive/Skripsi/Model/bagging_noPCA_tuning.pkl\")\n",
        "save_model(boosting_tuning, \"/content/drive/MyDrive/Skripsi/Model/boosting_noPCA_tuning.pkl\")\n",
        "save_model(stack_tuning, \"/content/drive/MyDrive/Skripsi/Model/stacking_noPCA_tuning.pkl\")"
      ],
      "metadata": {
        "id": "EWsllyumguMG"
      },
      "execution_count": null,
      "outputs": []
    },
    {
      "cell_type": "code",
      "source": [
        "#PCA Default\n",
        "save_model(bagging1_pca, \"/content/drive/MyDrive/Skripsi/Model/bagging_PCA_default.pkl\")\n",
        "save_model(boosting1_pca, \"/content/drive/MyDrive/Skripsi/Model/boosting_PCA_default.pkl\")\n",
        "save_model(stacking1_pca, \"/content/drive/MyDrive/Skripsi/Model/stacking_PCA_default.pkl\")\n",
        "#PCA Tuned\n",
        "save_model(bagging_tuning_pca, \"/content/drive/MyDrive/Skripsi/Model/bagging_PCA_tuning.pkl\")\n",
        "save_model(boosting_tuning_pca, \"/content/drive/MyDrive/Skripsi/Model/boosting_PCA_tuning.pkl\")\n",
        "save_model(stack_tuning_2, \"/content/drive/MyDrive/Skripsi/Model/stacking_PCA_tuning.pkl\")"
      ],
      "metadata": {
        "id": "sywxUn1Ckmmd"
      },
      "execution_count": null,
      "outputs": []
    },
    {
      "cell_type": "code",
      "source": [
        "stack_tuning"
      ],
      "metadata": {
        "colab": {
          "base_uri": "https://localhost:8080/"
        },
        "id": "BVumDsDhkpTL",
        "outputId": "3df312db-0e0f-4388-95c1-95e0af6bcd72"
      },
      "execution_count": null,
      "outputs": [
        {
          "output_type": "execute_result",
          "data": {
            "text/plain": [
              "StackingClassifier(estimators=[('tree',\n",
              "                                DecisionTreeClassifier(max_depth=2,\n",
              "                                                       random_state=1)),\n",
              "                               ('svm',\n",
              "                                SVC(C=0.1, gamma=1, probability=True,\n",
              "                                    random_state=1))],\n",
              "                   final_estimator=DecisionTreeClassifier(), n_jobs=1,\n",
              "                   stack_method='predict_proba')"
            ]
          },
          "metadata": {},
          "execution_count": 147
        }
      ]
    },
    {
      "cell_type": "code",
      "source": [
        "loaded_model = load('/content/drive/MyDrive/Skripsi/Model/stacking_PCA_tuning.pkl')"
      ],
      "metadata": {
        "id": "LqqhAFceirwT"
      },
      "execution_count": null,
      "outputs": []
    },
    {
      "cell_type": "code",
      "source": [
        "predictions = loaded_model.predict(X_train2)"
      ],
      "metadata": {
        "id": "uFx-nDgVjAFu"
      },
      "execution_count": null,
      "outputs": []
    },
    {
      "cell_type": "code",
      "source": [
        "test = cross_val_score(loaded_model, X_scaled2, y2, scoring=\"accuracy\", cv=5)\n",
        "print(\"Accuracy masing-masing = \", test)"
      ],
      "metadata": {
        "colab": {
          "base_uri": "https://localhost:8080/"
        },
        "id": "Fy9-vei9jZoY",
        "outputId": "80634966-4c4f-4032-fe3f-8d2655f517ba"
      },
      "execution_count": null,
      "outputs": [
        {
          "output_type": "stream",
          "name": "stdout",
          "text": [
            "Accuracy masing-masing =  [0.99107143 1.         1.         1.         0.99107143]\n"
          ]
        }
      ]
    }
  ]
}